{
 "cells": [
  {
   "cell_type": "markdown",
   "metadata": {},
   "source": [
    "# Building a Movie Recommendation System"
   ]
  },
  {
   "cell_type": "code",
   "execution_count": 55,
   "metadata": {
    "collapsed": false
   },
   "outputs": [],
   "source": [
    "########### Do not change anything below\n",
    "\n",
    "%matplotlib inline \n",
    "\n",
    "#Array processing\n",
    "import numpy as np\n",
    "\n",
    "#Data analysis, wrangling and common exploratory operations\n",
    "import pandas as pd\n",
    "from pandas import Series, DataFrame\n",
    "from IPython.display import display\n",
    "\n",
    "#For visualization. Matplotlib for basic viz and seaborn for more stylish figures + statistical figures not in MPL.\n",
    "import matplotlib.pyplot as plt\n",
    "import seaborn as sns\n",
    "import collections\n",
    "\n",
    "\n",
    "import scipy as sp\n",
    "#SVD for Sparse matrices\n",
    "from scipy.sparse.linalg import svds\n",
    "\n",
    "from sklearn.metrics.pairwise import euclidean_distances\n",
    "\n",
    "try:\n",
    "   import cPickle as pickle\n",
    "except:\n",
    "   import pickle\n",
    "\n",
    "from collections import defaultdict, Counter\n",
    "import operator\n",
    "\n",
    "from matplotlib import rcParams\n",
    "rcParams['figure.figsize'] = (10, 6)\n",
    "\n",
    "########################If needed you can import additional packages for helping you, although I would discourage it\n",
    "########################Put all your imports in the space below. If you use some strange package, \n",
    "##########################provide clear information as to how we can install it.\n",
    "from itertools import combinations\n",
    "import operator\n",
    "#######################End imports###################################"
   ]
  },
  {
   "cell_type": "markdown",
   "metadata": {},
   "source": [
    "# Part 1: Exploratory Analysis/Sparsity"
   ]
  },
  {
   "cell_type": "markdown",
   "metadata": {},
   "source": [
    "**Dataset:** We will be using the MovieLens 100K dataset. It is a fairly small dataset with 100K ratings from 1000 users on 1700 movies. You can download the dataset from http://grouplens.org/datasets/movielens/ . Some basic details about the dataset can be found in the README text file at http://files.grouplens.org/datasets/movielens/ml-100k-README.txt . You will need to understand the structure before doing the experiments. Download and unzip the file in the same folder as the IPython notebook. The rest of the code assumes that there is a folder called \"ml-100k\" in the current directory.\n",
    "\n"
   ]
  },
  {
   "cell_type": "code",
   "execution_count": 2,
   "metadata": {
    "collapsed": false
   },
   "outputs": [
    {
     "data": {
      "text/html": [
       "<div style=\"max-height:1000px;max-width:1500px;overflow:auto;\">\n",
       "<table border=\"1\" class=\"dataframe\">\n",
       "  <thead>\n",
       "    <tr style=\"text-align: right;\">\n",
       "      <th></th>\n",
       "      <th>MovieId</th>\n",
       "      <th>Title</th>\n",
       "      <th>UserId</th>\n",
       "      <th>Rating</th>\n",
       "      <th>Age</th>\n",
       "      <th>Gender</th>\n",
       "      <th>Occupation</th>\n",
       "      <th>ZipCode</th>\n",
       "    </tr>\n",
       "  </thead>\n",
       "  <tbody>\n",
       "    <tr>\n",
       "      <th>0</th>\n",
       "      <td> 1</td>\n",
       "      <td>      Toy Story (1995)</td>\n",
       "      <td> 308</td>\n",
       "      <td> 4</td>\n",
       "      <td> 60</td>\n",
       "      <td> M</td>\n",
       "      <td> retired</td>\n",
       "      <td> 95076</td>\n",
       "    </tr>\n",
       "    <tr>\n",
       "      <th>1</th>\n",
       "      <td> 4</td>\n",
       "      <td>     Get Shorty (1995)</td>\n",
       "      <td> 308</td>\n",
       "      <td> 5</td>\n",
       "      <td> 60</td>\n",
       "      <td> M</td>\n",
       "      <td> retired</td>\n",
       "      <td> 95076</td>\n",
       "    </tr>\n",
       "    <tr>\n",
       "      <th>2</th>\n",
       "      <td> 5</td>\n",
       "      <td>        Copycat (1995)</td>\n",
       "      <td> 308</td>\n",
       "      <td> 4</td>\n",
       "      <td> 60</td>\n",
       "      <td> M</td>\n",
       "      <td> retired</td>\n",
       "      <td> 95076</td>\n",
       "    </tr>\n",
       "    <tr>\n",
       "      <th>3</th>\n",
       "      <td> 7</td>\n",
       "      <td> Twelve Monkeys (1995)</td>\n",
       "      <td> 308</td>\n",
       "      <td> 4</td>\n",
       "      <td> 60</td>\n",
       "      <td> M</td>\n",
       "      <td> retired</td>\n",
       "      <td> 95076</td>\n",
       "    </tr>\n",
       "    <tr>\n",
       "      <th>4</th>\n",
       "      <td> 8</td>\n",
       "      <td>           Babe (1995)</td>\n",
       "      <td> 308</td>\n",
       "      <td> 5</td>\n",
       "      <td> 60</td>\n",
       "      <td> M</td>\n",
       "      <td> retired</td>\n",
       "      <td> 95076</td>\n",
       "    </tr>\n",
       "  </tbody>\n",
       "</table>\n",
       "</div>"
      ],
      "text/plain": [
       "   MovieId                  Title  UserId  Rating  Age Gender Occupation  \\\n",
       "0        1       Toy Story (1995)     308       4   60      M    retired   \n",
       "1        4      Get Shorty (1995)     308       5   60      M    retired   \n",
       "2        5         Copycat (1995)     308       4   60      M    retired   \n",
       "3        7  Twelve Monkeys (1995)     308       4   60      M    retired   \n",
       "4        8            Babe (1995)     308       5   60      M    retired   \n",
       "\n",
       "  ZipCode  \n",
       "0   95076  \n",
       "1   95076  \n",
       "2   95076  \n",
       "3   95076  \n",
       "4   95076  "
      ]
     },
     "execution_count": 2,
     "metadata": {},
     "output_type": "execute_result"
    }
   ],
   "source": [
    "#####Do not change anything below\n",
    "\n",
    "#Load the user data\n",
    "users_df = pd.read_csv('ml-100k/u.user', sep='|', names=['UserId', 'Age', 'Gender', 'Occupation', 'ZipCode'])\n",
    "#Load the movies data: we will only use movie id and title for this assignment\n",
    "movies_df = pd.read_csv('ml-100k/u.item', sep='|', names=['MovieId', 'Title'], usecols=range(2))\n",
    "#Load the ratings data: ignore the timestamps\n",
    "ratings_df = pd.read_csv('ml-100k/u.data', sep='\\t', names=['UserId', 'MovieId', 'Rating'],usecols=range(3))\n",
    "\n",
    "#Working on three different data frames is a pain\n",
    "# Let us create a single dataset by \"joining\" these three data frames\n",
    "movie_ratings_df = pd.merge(movies_df, ratings_df)\n",
    "movielens_df = pd.merge(movie_ratings_df, users_df)\n",
    "\n",
    "movielens_df.head()"
   ]
  },
  {
   "cell_type": "code",
   "execution_count": 3,
   "metadata": {
    "collapsed": false
   },
   "outputs": [
    {
     "name": "stdout",
     "output_type": "stream",
     "text": [
      "Title\n",
      "Star Wars (1977)                 583\n",
      "Contact (1997)                   509\n",
      "Fargo (1996)                     508\n",
      "Return of the Jedi (1983)        507\n",
      "Liar Liar (1997)                 485\n",
      "English Patient, The (1996)      481\n",
      "Scream (1996)                    478\n",
      "Toy Story (1995)                 452\n",
      "Air Force One (1997)             431\n",
      "Independence Day (ID4) (1996)    429\n",
      "Name: Rating, dtype: int64\n"
     ]
    }
   ],
   "source": [
    "#Task t1a: Print the NAME of the top-10 movies with most ratings\n",
    "print movielens_df['Rating'].groupby(movielens_df.Title).count().order(ascending=False)[:10]"
   ]
  },
  {
   "cell_type": "code",
   "execution_count": 56,
   "metadata": {
    "collapsed": false
   },
   "outputs": [
    {
     "data": {
      "image/png": "[encoded data removed]",
      "text/plain": [
       "<matplotlib.figure.Figure at 0x10bc83310>"
      ]
     },
     "metadata": {},
     "output_type": "display_data"
    }
   ],
   "source": [
    "#Task t1b: Let us now analyze the rating behavior of the 1000 users in the dataset\n",
    "#  Create a histogram based on the number of ratings per user with 50 bins. \n",
    "# Title=\"Count of Ratings per User\", XLabel=\"Ratings per user\", YLabel=\"#Users\"\n",
    "\n",
    "#t1b_user_rating_count is a groupby object that counts the number of ratings for each user.\n",
    "t1c_user_rating_count = movielens_df['Rating'].groupby(movielens_df.UserId).count().hist(bins=50)\n",
    "t1c_user_rating_count.set_xlabel('Ratings per User')\n",
    "t1c_user_rating_count.set_ylabel('#Users')\n",
    "t1c_user_rating_count.set_title('Count of Ratings per User')\n",
    "plt.show()\n",
    "\n",
    "####The figure below shows that most users leave less than 25 ratings while few outliers leave a lot of ratings"
   ]
  },
  {
   "cell_type": "code",
   "execution_count": 5,
   "metadata": {
    "collapsed": false
   },
   "outputs": [
    {
     "data": {
      "image/png": "[encoded data removed]",
      "text/plain": [
       "<matplotlib.figure.Figure at 0x10384f490>"
      ]
     },
     "metadata": {},
     "output_type": "display_data"
    }
   ],
   "source": [
    "#Task t1c: Let us now analyze the rating behavior of the 1000 users in the dataset\n",
    "#  Create a histogram based on the number of ratings per movie with 50 bins. \n",
    "# Title=\"Count of Ratings per Movie\", XLabel=\"Ratings per Movie\", YLabel=\"#Movies\"\n",
    "\n",
    "#t1c_user_rating_count is a groupby object that counts the number of ratings for each movie.\n",
    "t1c_user_rating_count = movielens_df['Rating'].groupby(movielens_df.MovieId).count().hist(bins=50)\n",
    "t1c_user_rating_count.set_xlabel('Ratings per Movie')\n",
    "t1c_user_rating_count.set_ylabel('#Movies')\n",
    "t1c_user_rating_count.set_title('Count of Ratings per Movie')\n",
    "plt.show()\n",
    "\n",
    "####The figure below shows that most movies receive less than 25 ratings while few popular get a lot of ratings"
   ]
  },
  {
   "cell_type": "code",
   "execution_count": 6,
   "metadata": {
    "collapsed": false
   },
   "outputs": [
    {
     "name": "stdout",
     "output_type": "stream",
     "text": [
      "Average rating of ALL movies is 3.53\n"
     ]
    },
    {
     "data": {
      "image/png": "[encoded data removed]",
      "text/plain": [
       "<matplotlib.figure.Figure at 0x10bab3290>"
      ]
     },
     "metadata": {},
     "output_type": "display_data"
    }
   ],
   "source": [
    "#Task t1d: Let us now analyze the rating distribution\n",
    "#  Create a histogram based on the ratings received for each movie with 5 bins. \n",
    "# Title=\"Ratings Histogram\", XLabel=\"Rating Provided\", YLabel=\"#Ratings\"\n",
    "t1d_rating_distribution=movielens_df['Rating']\n",
    "t1d_rating_distribution_hist=t1d_rating_distribution.hist(bins=5)\n",
    "t1d_rating_distribution_hist.set_xlabel('Rating Provided')\n",
    "t1d_rating_distribution_hist.set_ylabel('#Ratings')\n",
    "t1d_rating_distribution_hist.set_title('Ratings Histogram')\n",
    "\n",
    "\n",
    "####The figure below shows that most movies at least 35K of ratings provided a score of 4 or higher.\n",
    "#The code below shows that the average rating is 3.5\n",
    "# This is problematic because each user has a different rating scale\n",
    "# For some users 1 is a bad movie while for some others 3 is bad\n",
    "# So a good model must take into the account the baseline rating behavior of users and movies\n",
    "\n",
    "print \"Average rating of ALL movies is\",movielens_df['Rating'].mean().round(2) \n",
    "plt.show()"
   ]
  },
  {
   "cell_type": "code",
   "execution_count": 8,
   "metadata": {
    "collapsed": false
   },
   "outputs": [
    {
     "data": {
      "image/png": "[encoded data removed]",
      "text/plain": [
       "<matplotlib.figure.Figure at 0x103868450>"
      ]
     },
     "metadata": {},
     "output_type": "display_data"
    }
   ],
   "source": [
    "#Task t1e: Let us now study the baseline rating behavior in more detail\n",
    "# For each user compute his/her average rating\n",
    "#  Create a histogram based on the average ratings with 5 bins. \n",
    "# Title=\"Histogram of Average Ratings of Users\", XLabel=\"Average Rating\", YLabel=\"#Users\"\n",
    "\n",
    "#t1e_avg_ratings is a groupby object with average rating for each user\n",
    "t1e_avg_ratings = movielens_df['Rating'].groupby(movielens_df.UserId).mean().hist(bins=5)\n",
    "t1e_avg_ratings.set_xlabel('Average Rating')\n",
    "t1e_avg_ratings.set_ylabel('#Users')\n",
    "t1e_avg_ratings.set_title('Histogram of Average Ratings of Users')\n",
    "plt.show()\n",
    "\n",
    "\n",
    "\n",
    "####The figure below shows that while the average rating of users vary\n",
    "# What does this imply?\n",
    "\n",
    "\n"
   ]
  },
  {
   "cell_type": "code",
   "execution_count": 9,
   "metadata": {
    "collapsed": false
   },
   "outputs": [
    {
     "data": {
      "image/png": "[encoded data removed]",
      "text/plain": [
       "<matplotlib.figure.Figure at 0x103868810>"
      ]
     },
     "metadata": {},
     "output_type": "display_data"
    }
   ],
   "source": [
    "#Task t1f: Let us now study the baseline rating behavior in more detail\n",
    "# For each movie compute its average rating\n",
    "#  Create a histogram based on the average ratings with 5 bins. \n",
    "# Title=\"Histogram of Average Ratings of Movies\", XLabel=\"Average Rating\", YLabel=\"#Movies\"\n",
    "\n",
    "#t1e_avg_ratings is a groupby object with average rating for each user\n",
    "t1f_avg_ratings = movielens_df['Rating'].groupby(movielens_df.MovieId).mean().hist(bins=5)\n",
    "t1f_avg_ratings.set_xlabel('Average Rating')\n",
    "t1f_avg_ratings.set_ylabel('#Movies')\n",
    "t1f_avg_ratings.set_title('Histogram of Average Ratings of Movies')\n",
    "plt.show()\n",
    "\n",
    "\n",
    "\n",
    "####The figure below shows that while the average rating of movies vary\n",
    "# What does this imply?\n",
    "\n"
   ]
  },
  {
   "cell_type": "markdown",
   "metadata": {},
   "source": [
    "**Common Support**: The concept of common support is a key idea is recommender systems. Given two items (movies in our case), the common support is the number of reviewers who rated both items. It is useful in both K-nearest neighbor and collaborative filtering based recommenders. Specifically, if the common support is 0 for a pair of movies, then it is quite hard to find their similarity!"
   ]
  },
  {
   "cell_type": "code",
   "execution_count": 10,
   "metadata": {
    "collapsed": false
   },
   "outputs": [
    {
     "name": "stdout",
     "output_type": "stream",
     "text": [
      "Average common support is  7.11\n"
     ]
    },
    {
     "data": {
      "text/plain": [
       "(array([  1.37138500e+06,   3.26780000e+04,   7.02500000e+03,\n",
       "          1.92200000e+03,   5.25000000e+02,   1.33000000e+02,\n",
       "          4.20000000e+01,   9.00000000e+00,   1.00000000e+00,\n",
       "          1.00000000e+00]),\n",
       " array([   0.,   48.,   96.,  144.,  192.,  240.,  288.,  336.,  384.,\n",
       "         432.,  480.]),\n",
       " <a list of 10 Patch objects>)"
      ]
     },
     "execution_count": 10,
     "metadata": {},
     "output_type": "execute_result"
    },
    {
     "data": {
      "image/png": "[encoded data removed]",
      "text/plain": [
       "<matplotlib.figure.Figure at 0x103868390>"
      ]
     },
     "metadata": {},
     "output_type": "display_data"
    }
   ],
   "source": [
    "#Task t1g: Let us now analyze the common support for movielens dataset\n",
    "# Here is the high level idea\n",
    "# We are going to create an array and populate it with the common support for all pair of movies\n",
    "# We then are going to plot a histogram and see its distribution.\n",
    "\n",
    "#This task might take quite some time - 1-2 hours for typical machines !\n",
    "\n",
    "#This contains all unique movies\n",
    "t1g_all_movies = movies_df['MovieId'].unique()\n",
    "#print t1g_all_movies\n",
    "#You will populate common support for all distinct pairs here\n",
    "# Note that if you compared i,j you dont need to compare j and i again\n",
    "t1g_allpair_commonsupport = []\n",
    "#list2=[1,2,3,4,5]\n",
    "\n",
    "for comb in combinations(t1g_all_movies, 2):\n",
    "    #print comb[0],comb[1]\n",
    "    movie_i_reviewers=movielens_df[movielens_df.MovieId==comb[0]].UserId.unique()\n",
    "    movie_j_reviewers=movielens_df[movielens_df.MovieId==comb[1]].UserId.unique()\n",
    "    common_reviewers = set(movie_i_reviewers).intersection(movie_j_reviewers)\n",
    "    #print len(common_reviewers)\n",
    "    t1g_allpair_commonsupport.append(len(common_reviewers))\n",
    "\n",
    "print \"Average common support is \", round(np.mean(t1g_allpair_commonsupport), 2)\n",
    "plt.hist(t1g_allpair_commonsupport)\n",
    "\n",
    "            \n",
    "\n",
    "\n",
    "\n",
    "\n",
    "#### What the average common support and its distribution imply?\n",
    "\n",
    "\n",
    "#Code courtesy: http://nbviewer.ipython.org/github/jming/cs109/blob/master/HW4.ipynb"
   ]
  },
  {
   "cell_type": "code",
   "execution_count": 11,
   "metadata": {
    "collapsed": false
   },
   "outputs": [
    {
     "name": "stdout",
     "output_type": "stream",
     "text": [
      "Sparsity of the dataset is  0.0630466936422\n"
     ]
    }
   ],
   "source": [
    "#Task t1h: Let us now consider how sparse the matrix is\n",
    "t1h_non_zero=movielens_df['Rating'].count()\n",
    "t1h_matrix_size=(len(movielens_df.UserId.unique()))*(len(movielens_df.MovieId.unique()))\n",
    "#print t1h_non_zero\n",
    "#print t1h_matrix_size\n",
    "t1h_sparsity =(float(t1h_non_zero))/(float(t1h_matrix_size)) \n",
    "print \"Sparsity of the dataset is \", t1h_sparsity\n",
    "\n",
    "#This graph is actually less sparse than typical datasets for recommender systems\n",
    "# which often have a sparsity much lower than 1%\n",
    "# As discussed in the class, the sparsity imposes huge problem in terms of designing efficient and correct algorithms"
   ]
  },
  {
   "cell_type": "code",
   "execution_count": 12,
   "metadata": {
    "collapsed": false
   },
   "outputs": [
    {
     "data": {
      "text/html": [
       "<div style=\"max-height:1000px;max-width:1500px;overflow:auto;\">\n",
       "<table border=\"1\" class=\"dataframe\">\n",
       "  <thead>\n",
       "    <tr style=\"text-align: right;\">\n",
       "      <th>Gender</th>\n",
       "      <th>F</th>\n",
       "      <th>M</th>\n",
       "    </tr>\n",
       "    <tr>\n",
       "      <th>Title</th>\n",
       "      <th></th>\n",
       "      <th></th>\n",
       "    </tr>\n",
       "  </thead>\n",
       "  <tbody>\n",
       "    <tr>\n",
       "      <th>'Til There Was You (1997)</th>\n",
       "      <td> 2.200000</td>\n",
       "      <td> 2.500000</td>\n",
       "    </tr>\n",
       "    <tr>\n",
       "      <th>1-900 (1994)</th>\n",
       "      <td> 1.000000</td>\n",
       "      <td> 3.000000</td>\n",
       "    </tr>\n",
       "    <tr>\n",
       "      <th>101 Dalmatians (1996)</th>\n",
       "      <td> 3.116279</td>\n",
       "      <td> 2.772727</td>\n",
       "    </tr>\n",
       "    <tr>\n",
       "      <th>12 Angry Men (1957)</th>\n",
       "      <td> 4.269231</td>\n",
       "      <td> 4.363636</td>\n",
       "    </tr>\n",
       "    <tr>\n",
       "      <th>187 (1997)</th>\n",
       "      <td> 3.500000</td>\n",
       "      <td> 2.870968</td>\n",
       "    </tr>\n",
       "    <tr>\n",
       "      <th>2 Days in the Valley (1996)</th>\n",
       "      <td> 3.235294</td>\n",
       "      <td> 3.223684</td>\n",
       "    </tr>\n",
       "    <tr>\n",
       "      <th>20,000 Leagues Under the Sea (1954)</th>\n",
       "      <td> 3.214286</td>\n",
       "      <td> 3.568966</td>\n",
       "    </tr>\n",
       "    <tr>\n",
       "      <th>2001: A Space Odyssey (1968)</th>\n",
       "      <td> 3.491228</td>\n",
       "      <td> 4.103960</td>\n",
       "    </tr>\n",
       "    <tr>\n",
       "      <th>3 Ninjas: High Noon At Mega Mountain (1998)</th>\n",
       "      <td> 1.000000</td>\n",
       "      <td> 1.000000</td>\n",
       "    </tr>\n",
       "    <tr>\n",
       "      <th>39 Steps, The (1935)</th>\n",
       "      <td> 4.000000</td>\n",
       "      <td> 4.060000</td>\n",
       "    </tr>\n",
       "  </tbody>\n",
       "</table>\n",
       "</div>"
      ],
      "text/plain": [
       "Gender                                              F         M\n",
       "Title                                                          \n",
       "'Til There Was You (1997)                    2.200000  2.500000\n",
       "1-900 (1994)                                 1.000000  3.000000\n",
       "101 Dalmatians (1996)                        3.116279  2.772727\n",
       "12 Angry Men (1957)                          4.269231  4.363636\n",
       "187 (1997)                                   3.500000  2.870968\n",
       "2 Days in the Valley (1996)                  3.235294  3.223684\n",
       "20,000 Leagues Under the Sea (1954)          3.214286  3.568966\n",
       "2001: A Space Odyssey (1968)                 3.491228  4.103960\n",
       "3 Ninjas: High Noon At Mega Mountain (1998)  1.000000  1.000000\n",
       "39 Steps, The (1935)                         4.000000  4.060000"
      ]
     },
     "metadata": {},
     "output_type": "display_data"
    }
   ],
   "source": [
    "#Task t1i: Compute the average rating for each movie grouped by gender\n",
    "#  In other words, for each movie, compute the average rating given by men and women\n",
    "# Hint: use a pivot table\n",
    "#t1i_movielens_male_rating=movielens_df['Rating'][movielens_df.Gender=='M'].groupby(movielens_df.MovieId).mean()\n",
    "#t1i_movielens_female_rating=movielens_df['Rating'][movielens_df.Gender=='F'].groupby(movielens_df.MovieId).mean()\n",
    "#print t1i_movielens_male_rating\n",
    "t1i_movielens_mean_ratings = movielens_df.pivot_table(values='Rating',index='Title',columns='Gender',aggfunc=np.mean,fill_value=0)\n",
    "display(t1i_movielens_mean_ratings[:10])"
   ]
  },
  {
   "cell_type": "markdown",
   "metadata": {},
   "source": [
    "# Part 2: Nearest Neighbor based Recommender System"
   ]
  },
  {
   "cell_type": "markdown",
   "metadata": {},
   "source": [
    "Let us now build a simple global recommendation system based on the nearest neighbor idea. "
   ]
  },
  {
   "cell_type": "code",
   "execution_count": 13,
   "metadata": {
    "collapsed": false
   },
   "outputs": [],
   "source": [
    "#Task t2a: \n",
    "# Create a dictionary where key is Movie Name and value is id\n",
    "#       You can either use the movies_df or read and parse the u.item file yourself\n",
    "movie_name_to_id_dictionary = {}\n",
    "#dict1=Series(movies_df.MovieId.values,index=movies_df.Title).to_dict()\n",
    "movie_name_to_id_dictionary=movies_df.set_index('Title')['MovieId'].to_dict()\n",
    "#print movie_name_to_id_dictionary\n",
    "#Write code to populate the movie names to this array\n",
    "all_movie_names = []\n",
    "all_movie_names=list(movies_df['Title'])\n",
    "#all_movie_names=movie_name_to_id_dictionary.keys()\n",
    "#print all_movie_names\n",
    "#Your code below"
   ]
  },
  {
   "cell_type": "code",
   "execution_count": 14,
   "metadata": {
    "collapsed": false
   },
   "outputs": [],
   "source": [
    "#Task t2b: Write a function that takes two inputs: \n",
    "#  movie_id: id of the movie and common_users: a set of user ids\n",
    "# and returns the list of rows corresponding to their movie ratings \n",
    "\n",
    "def get_movie_reviews(movie_id, common_users):\n",
    "    #Get a boolean vector for themovielens_dfns_dfs provided by users in common_users for movie movie_id\n",
    "    # Hint: use the isin operator of Pandas\n",
    "    \n",
    "    #mask = movielens_df['Rating'][movielens_df.MovieId==movie_id][movielens_df.UserId].isin(common_users)\n",
    "    mask = (movielens_df.UserId.isin(common_users)) & (movielens_df.MovieId==movie_id)\n",
    "    #print len(common_users)\n",
    "    #print mask\n",
    "    \n",
    "    #for i in mask:\n",
    "    #    if(i==True):\n",
    "    #        print mask[i]\n",
    "    \n",
    "    #Create a subset of data where the mask is True i.e. only collect data from users who satisfy the condition above\n",
    "    # Then sort them based on userid\n",
    "    movie_ratings = movielens_df[mask]\n",
    "    movie_ratings = movie_ratings.sort(columns= 'UserId', ascending=True)\n",
    "    \n",
    "    #Do not change below\n",
    "    #Return the unique set of ratings provided\n",
    "    movie_ratings = movie_ratings[movie_ratings['UserId'].duplicated()==False]\n",
    "    return movie_ratings\n",
    "#common_users=[1, 5, 521, 13, 532, 536]    \n",
    "#get_movie_reviews(100, set(range(1,10)))\n",
    "\n",
    "\n",
    "#Code courtesy: http://nbviewer.ipython.org/github/jming/cs109/blob/master/HW4.ipynb"
   ]
  },
  {
   "cell_type": "code",
   "execution_count": 15,
   "metadata": {
    "collapsed": false
   },
   "outputs": [
    {
     "name": "stdout",
     "output_type": "stream",
     "text": [
      "get_movie_reviews(1, set([1]))\n"
     ]
    },
    {
     "data": {
      "text/html": [
       "<div style=\"max-height:1000px;max-width:1500px;overflow:auto;\">\n",
       "<table border=\"1\" class=\"dataframe\">\n",
       "  <thead>\n",
       "    <tr style=\"text-align: right;\">\n",
       "      <th></th>\n",
       "      <th>MovieId</th>\n",
       "      <th>Title</th>\n",
       "      <th>UserId</th>\n",
       "      <th>Rating</th>\n",
       "      <th>Age</th>\n",
       "      <th>Gender</th>\n",
       "      <th>Occupation</th>\n",
       "      <th>ZipCode</th>\n",
       "    </tr>\n",
       "  </thead>\n",
       "  <tbody>\n",
       "    <tr>\n",
       "      <th>20103</th>\n",
       "      <td> 1</td>\n",
       "      <td> Toy Story (1995)</td>\n",
       "      <td> 1</td>\n",
       "      <td> 5</td>\n",
       "      <td> 24</td>\n",
       "      <td> M</td>\n",
       "      <td> technician</td>\n",
       "      <td> 85711</td>\n",
       "    </tr>\n",
       "  </tbody>\n",
       "</table>\n",
       "</div>"
      ],
      "text/plain": [
       "       MovieId             Title  UserId  Rating  Age Gender  Occupation  \\\n",
       "20103        1  Toy Story (1995)       1       5   24      M  technician   \n",
       "\n",
       "      ZipCode  \n",
       "20103   85711  "
      ]
     },
     "metadata": {},
     "output_type": "display_data"
    },
    {
     "name": "stdout",
     "output_type": "stream",
     "text": [
      "get_movie_reviews(1, set(range(1, 10)))\n"
     ]
    },
    {
     "data": {
      "text/html": [
       "<div style=\"max-height:1000px;max-width:1500px;overflow:auto;\">\n",
       "<table border=\"1\" class=\"dataframe\">\n",
       "  <thead>\n",
       "    <tr style=\"text-align: right;\">\n",
       "      <th></th>\n",
       "      <th>MovieId</th>\n",
       "      <th>Title</th>\n",
       "      <th>UserId</th>\n",
       "      <th>Rating</th>\n",
       "      <th>Age</th>\n",
       "      <th>Gender</th>\n",
       "      <th>Occupation</th>\n",
       "      <th>ZipCode</th>\n",
       "    </tr>\n",
       "  </thead>\n",
       "  <tbody>\n",
       "    <tr>\n",
       "      <th>20103</th>\n",
       "      <td> 1</td>\n",
       "      <td> Toy Story (1995)</td>\n",
       "      <td> 1</td>\n",
       "      <td> 5</td>\n",
       "      <td> 24</td>\n",
       "      <td> M</td>\n",
       "      <td> technician</td>\n",
       "      <td> 85711</td>\n",
       "    </tr>\n",
       "    <tr>\n",
       "      <th>15002</th>\n",
       "      <td> 1</td>\n",
       "      <td> Toy Story (1995)</td>\n",
       "      <td> 2</td>\n",
       "      <td> 4</td>\n",
       "      <td> 53</td>\n",
       "      <td> F</td>\n",
       "      <td>      other</td>\n",
       "      <td> 94043</td>\n",
       "    </tr>\n",
       "    <tr>\n",
       "      <th>820  </th>\n",
       "      <td> 1</td>\n",
       "      <td> Toy Story (1995)</td>\n",
       "      <td> 5</td>\n",
       "      <td> 4</td>\n",
       "      <td> 33</td>\n",
       "      <td> F</td>\n",
       "      <td>      other</td>\n",
       "      <td> 15213</td>\n",
       "    </tr>\n",
       "    <tr>\n",
       "      <th>35865</th>\n",
       "      <td> 1</td>\n",
       "      <td> Toy Story (1995)</td>\n",
       "      <td> 6</td>\n",
       "      <td> 4</td>\n",
       "      <td> 42</td>\n",
       "      <td> M</td>\n",
       "      <td>  executive</td>\n",
       "      <td> 98101</td>\n",
       "    </tr>\n",
       "  </tbody>\n",
       "</table>\n",
       "</div>"
      ],
      "text/plain": [
       "       MovieId             Title  UserId  Rating  Age Gender  Occupation  \\\n",
       "20103        1  Toy Story (1995)       1       5   24      M  technician   \n",
       "15002        1  Toy Story (1995)       2       4   53      F       other   \n",
       "820          1  Toy Story (1995)       5       4   33      F       other   \n",
       "35865        1  Toy Story (1995)       6       4   42      M   executive   \n",
       "\n",
       "      ZipCode  \n",
       "20103   85711  \n",
       "15002   94043  \n",
       "820     15213  \n",
       "35865   98101  "
      ]
     },
     "metadata": {},
     "output_type": "display_data"
    },
    {
     "name": "stdout",
     "output_type": "stream",
     "text": [
      "get_movie_reviews(100, set(range(1, 10)))\n"
     ]
    },
    {
     "data": {
      "text/html": [
       "<div style=\"max-height:1000px;max-width:1500px;overflow:auto;\">\n",
       "<table border=\"1\" class=\"dataframe\">\n",
       "  <thead>\n",
       "    <tr style=\"text-align: right;\">\n",
       "      <th></th>\n",
       "      <th>MovieId</th>\n",
       "      <th>Title</th>\n",
       "      <th>UserId</th>\n",
       "      <th>Rating</th>\n",
       "      <th>Age</th>\n",
       "      <th>Gender</th>\n",
       "      <th>Occupation</th>\n",
       "      <th>ZipCode</th>\n",
       "    </tr>\n",
       "  </thead>\n",
       "  <tbody>\n",
       "    <tr>\n",
       "      <th>20202</th>\n",
       "      <td> 100</td>\n",
       "      <td> Fargo (1996)</td>\n",
       "      <td> 1</td>\n",
       "      <td> 5</td>\n",
       "      <td> 24</td>\n",
       "      <td> M</td>\n",
       "      <td>    technician</td>\n",
       "      <td> 85711</td>\n",
       "    </tr>\n",
       "    <tr>\n",
       "      <th>15009</th>\n",
       "      <td> 100</td>\n",
       "      <td> Fargo (1996)</td>\n",
       "      <td> 2</td>\n",
       "      <td> 5</td>\n",
       "      <td> 53</td>\n",
       "      <td> F</td>\n",
       "      <td>         other</td>\n",
       "      <td> 94043</td>\n",
       "    </tr>\n",
       "    <tr>\n",
       "      <th>843  </th>\n",
       "      <td> 100</td>\n",
       "      <td> Fargo (1996)</td>\n",
       "      <td> 5</td>\n",
       "      <td> 5</td>\n",
       "      <td> 33</td>\n",
       "      <td> F</td>\n",
       "      <td>         other</td>\n",
       "      <td> 15213</td>\n",
       "    </tr>\n",
       "    <tr>\n",
       "      <th>35894</th>\n",
       "      <td> 100</td>\n",
       "      <td> Fargo (1996)</td>\n",
       "      <td> 6</td>\n",
       "      <td> 5</td>\n",
       "      <td> 42</td>\n",
       "      <td> M</td>\n",
       "      <td>     executive</td>\n",
       "      <td> 98101</td>\n",
       "    </tr>\n",
       "    <tr>\n",
       "      <th>74830</th>\n",
       "      <td> 100</td>\n",
       "      <td> Fargo (1996)</td>\n",
       "      <td> 7</td>\n",
       "      <td> 5</td>\n",
       "      <td> 57</td>\n",
       "      <td> M</td>\n",
       "      <td> administrator</td>\n",
       "      <td> 91344</td>\n",
       "    </tr>\n",
       "  </tbody>\n",
       "</table>\n",
       "</div>"
      ],
      "text/plain": [
       "       MovieId         Title  UserId  Rating  Age Gender     Occupation  \\\n",
       "20202      100  Fargo (1996)       1       5   24      M     technician   \n",
       "15009      100  Fargo (1996)       2       5   53      F          other   \n",
       "843        100  Fargo (1996)       5       5   33      F          other   \n",
       "35894      100  Fargo (1996)       6       5   42      M      executive   \n",
       "74830      100  Fargo (1996)       7       5   57      M  administrator   \n",
       "\n",
       "      ZipCode  \n",
       "20202   85711  \n",
       "15009   94043  \n",
       "843     15213  \n",
       "35894   98101  \n",
       "74830   91344  "
      ]
     },
     "metadata": {},
     "output_type": "display_data"
    },
    {
     "name": "stdout",
     "output_type": "stream",
     "text": [
      "get_movie_reviews(784, set(range(1, 784)))\n"
     ]
    },
    {
     "data": {
      "text/html": [
       "<div style=\"max-height:1000px;max-width:1500px;overflow:auto;\">\n",
       "<table border=\"1\" class=\"dataframe\">\n",
       "  <thead>\n",
       "    <tr style=\"text-align: right;\">\n",
       "      <th></th>\n",
       "      <th>MovieId</th>\n",
       "      <th>Title</th>\n",
       "      <th>UserId</th>\n",
       "      <th>Rating</th>\n",
       "      <th>Age</th>\n",
       "      <th>Gender</th>\n",
       "      <th>Occupation</th>\n",
       "      <th>ZipCode</th>\n",
       "    </tr>\n",
       "  </thead>\n",
       "  <tbody>\n",
       "    <tr>\n",
       "      <th>18103</th>\n",
       "      <td> 784</td>\n",
       "      <td> Beyond Bedlam (1993)</td>\n",
       "      <td>  13</td>\n",
       "      <td> 1</td>\n",
       "      <td> 47</td>\n",
       "      <td> M</td>\n",
       "      <td>   educator</td>\n",
       "      <td> 29206</td>\n",
       "    </tr>\n",
       "    <tr>\n",
       "      <th>67420</th>\n",
       "      <td> 784</td>\n",
       "      <td> Beyond Bedlam (1993)</td>\n",
       "      <td> 405</td>\n",
       "      <td> 1</td>\n",
       "      <td> 22</td>\n",
       "      <td> F</td>\n",
       "      <td> healthcare</td>\n",
       "      <td> 10019</td>\n",
       "    </tr>\n",
       "  </tbody>\n",
       "</table>\n",
       "</div>"
      ],
      "text/plain": [
       "       MovieId                 Title  UserId  Rating  Age Gender  Occupation  \\\n",
       "18103      784  Beyond Bedlam (1993)      13       1   47      M    educator   \n",
       "67420      784  Beyond Bedlam (1993)     405       1   22      F  healthcare   \n",
       "\n",
       "      ZipCode  \n",
       "18103   29206  \n",
       "67420   10019  "
      ]
     },
     "metadata": {},
     "output_type": "display_data"
    }
   ],
   "source": [
    "#Do not change below\n",
    "\n",
    "#Here are some sample test cases for evaluating t2b\n",
    "print \"get_movie_reviews(1, set([1]))\"\n",
    "display( get_movie_reviews(1, set([1])) )\n",
    "\n",
    "print \"get_movie_reviews(1, set(range(1, 10)))\"\n",
    "display( get_movie_reviews(1, set(range(1, 10))) )\n",
    "\n",
    "print \"get_movie_reviews(100, set(range(1, 10)))\"\n",
    "display( get_movie_reviews(100, set(range(1, 10))) )\n",
    "\n",
    "print \"get_movie_reviews(784, set(range(1, 784)))\"\n",
    "display( get_movie_reviews(784, set(range(1, 784))) )\n",
    "\n",
    "\n"
   ]
  },
  {
   "cell_type": "code",
   "execution_count": 16,
   "metadata": {
    "collapsed": true
   },
   "outputs": [],
   "source": [
    "#Task t2c: Let us now calculate the similarity between two movies\n",
    "# based on the set of users who rated both movies\n",
    "#Using euclidean distance is a bad idea - but simplifies the code\n",
    "\n",
    "def calculate_similarity(movie_name_1, movie_name_2, min_common_users=0):\n",
    "    \n",
    "    movie1 = movie_name_to_id_dictionary[movie_name_1]\n",
    "    #print movie1\n",
    "    movie2 = movie_name_to_id_dictionary[movie_name_2]\n",
    "    #print movie2\n",
    "    \n",
    "    #This is the set of UNIQUE user ids  who reviewed  movie1\n",
    "    users_who_rated_movie1 = movielens_df[movielens_df.MovieId==movie1].UserId.unique()\n",
    "    \n",
    "    #This is the set of UNIQUE user ids  who reviewed  movie2\n",
    "    users_who_rated_movie2 = movielens_df[movielens_df.MovieId==movie2].UserId.unique()\n",
    "    \n",
    "    #Compute the common users who rated both movies: \n",
    "    # hint convert both to set and do the intersection\n",
    "    common_users = set(users_who_rated_movie1).intersection(users_who_rated_movie2)\n",
    "    #print common_users\n",
    "    #Using the code you wrote in t2a, get the reviews for the movies and common users\n",
    "    movie1_reviews = get_movie_reviews(movie1,common_users)\n",
    "    #print movie1_reviews\n",
    "    movie2_reviews = get_movie_reviews(movie2,common_users)\n",
    "    #print movie2_reviews\n",
    "    #Now you have the data frame for both movies\n",
    "    # Use the euclidean_distances function from sklean (imported already)\n",
    "    # to compute the distance between their rating values\n",
    "    distance = float(euclidean_distances(movie1_reviews.Rating,movie2_reviews.Rating))\n",
    "\n",
    "    if len(common_users) < min_common_users:\n",
    "        return [[float('inf')]]\n",
    "    return distance\n",
    "#calculate_similarity(\"Toy Story (1995)\", \"GoldenEye (1995)\")\n",
    "\n",
    "\n",
    "\n",
    "#Code courtesy: http://nbviewer.ipython.org/github/jming/cs109/blob/master/HW4.ipynb"
   ]
  },
  {
   "cell_type": "code",
   "execution_count": 17,
   "metadata": {
    "collapsed": false
   },
   "outputs": [
    {
     "name": "stdout",
     "output_type": "stream",
     "text": [
      "13.6014705087\n",
      "6.2449979984\n",
      "4.12310562562\n"
     ]
    }
   ],
   "source": [
    "#Do not change below\n",
    "print calculate_similarity(\"Toy Story (1995)\", \"GoldenEye (1995)\")\n",
    "print calculate_similarity(\"GoldenEye (1995)\", \"Tomorrow Never Dies (1997)\")\n",
    "print calculate_similarity(\"Batman Forever (1995)\", \"Batman & Robin (1997)\")"
   ]
  },
  {
   "cell_type": "code",
   "execution_count": 18,
   "metadata": {
    "collapsed": false
   },
   "outputs": [],
   "source": [
    "#Task t2d: Given a movie, find the top-k most similar movies\n",
    "# that have the lowest euclidean distance \n",
    "\n",
    "#Here is the high level logic:\n",
    "#  for each movie in all_movie_names (Except the input movie name)\n",
    "#    compute its similarity and store it in an array\n",
    "#   return the k movies with the smallest distances\n",
    "# remember to pass min_common_users to calculate_similarity\n",
    "def get_top_k_similar_movies(input_movie_name, k=5, min_common_users=0):\n",
    "    #list1=np.array([])\n",
    "    list1=[]\n",
    "    for movie in all_movie_names:\n",
    "        if(movie!=input_movie_name):\n",
    "            similarity=calculate_similarity(input_movie_name,movie,min_common_users)\n",
    "            #list1 = np.array(movie)\n",
    "            list1.append((similarity,movie))\n",
    "    return sorted(list1)[:10]\n",
    "    #return None\n",
    "\n",
    "#get_top_k_similar_movies(\"GoldenEye (1995)\", 10, 25)  "
   ]
  },
  {
   "cell_type": "code",
   "execution_count": 19,
   "metadata": {
    "collapsed": false
   },
   "outputs": [
    {
     "name": "stdout",
     "output_type": "stream",
     "text": [
      "\n",
      "Movies similar to GoldenEye [25] [(4.242640687119285, 'Program, The (1993)'), (4.69041575982343, 'Up Close and Personal (1996)'), (4.795831523312719, 'Quick and the Dead, The (1995)'), (4.898979485566356, 'Murder at 1600 (1997)'), (5.0990195135927845, 'Down Periscope (1996)'), (5.0990195135927845, \"My Best Friend's Wedding (1997)\"), (5.0990195135927845, 'Nick of Time (1995)'), (5.291502622129181, 'Devil in a Blue Dress (1995)'), (5.291502622129181, 'Donnie Brasco (1997)'), (5.291502622129181, 'Michael (1996)')]\n",
      "\n",
      "Movies similar to GoldenEye [50] [(7.280109889280518, 'Star Trek: Generations (1994)'), (7.54983443527075, 'Basic Instinct (1992)'), (7.681145747868608, 'Jumanji (1995)'), (7.681145747868608, 'Phenomenon (1996)'), (7.937253933193772, 'Courage Under Fire (1996)'), (8.0, 'Outbreak (1995)'), (8.12403840463596, 'Firm, The (1993)'), (8.246211251235321, 'Abyss, The (1989)'), (8.246211251235321, 'Cliffhanger (1993)'), (8.246211251235321, 'Maverick (1994)')]\n",
      "\n",
      "Movies similar to GoldenEye [100] [(9.848857801796104, 'Mission: Impossible (1996)'), (10.770329614269007, 'True Lies (1994)'), (11.532562594670797, 'Speed (1994)'), (12.165525060596439, 'Independence Day (ID4) (1996)'), (12.206555615733702, 'Top Gun (1986)'), (12.36931687685298, 'Rock, The (1996)'), (12.569805089976535, 'Batman (1989)'), (13.114877048604, 'Star Trek: The Wrath of Khan (1982)'), (13.601470508735444, 'Toy Story (1995)'), (13.74772708486752, 'Blade Runner (1982)')]\n",
      "\n",
      "\n",
      "\n",
      "\n",
      "Movies similar to Usual Suspects [25] [(5.196152422706632, 'Candidate, The (1972)'), (5.196152422706632, 'To Catch a Thief (1955)'), (5.477225575051661, 'Cat on a Hot Tin Roof (1958)'), (5.477225575051661, 'Roman Holiday (1953)'), (5.5677643628300215, \"Sophie's Choice (1982)\"), (5.5677643628300215, 'Wallace & Gromit: The Best of Aardman Animation (1996)'), (5.656854249492381, 'His Girl Friday (1940)'), (5.744562646538029, 'Die xue shuang xiong (Killer, The) (1989)'), (5.744562646538029, 'Some Folks Call It a Sling Blade (1993)'), (5.916079783099616, 'Breaking the Waves (1996)')]\n",
      "\n",
      "Movies similar to Usual Suspects [50] [(6.557438524302, 'Close Shave, A (1995)'), (7.280109889280518, 'Apt Pupil (1998)'), (7.280109889280518, 'Philadelphia Story, The (1940)'), (7.681145747868608, 'Good Will Hunting (1997)'), (7.810249675906654, 'Wrong Trousers, The (1993)'), (8.12403840463596, 'Manchurian Candidate, The (1962)'), (8.12403840463596, 'Six Degrees of Separation (1993)'), (8.306623862918075, 'Maltese Falcon, The (1941)'), (8.602325267042627, 'Sling Blade (1996)'), (8.774964387392123, 'Secrets & Lies (1996)')]\n",
      "\n",
      "Movies similar to Usual Suspects [100] [(9.327379053088816, 'L.A. Confidential (1997)'), (9.486832980505138, 'Rear Window (1954)'), (9.9498743710662, 'Vertigo (1958)'), (10.04987562112089, 'North by Northwest (1959)'), (10.44030650891055, 'To Kill a Mockingbird (1962)'), (10.63014581273465, 'Glory (1989)'), (11.661903789690601, 'Godfather: Part II, The (1974)'), (11.704699910719626, 'Titanic (1997)'), (11.789826122551595, 'M*A*S*H (1970)'), (11.832159566199232, 'Casablanca (1942)')]\n",
      "\n",
      "\n",
      "\n",
      "\n",
      "Movies similar to Batman Forever [25] [(4.123105625617661, 'Batman & Robin (1997)'), (4.69041575982343, 'Down Periscope (1996)'), (4.69041575982343, 'Junior (1994)'), (4.795831523312719, 'Jack (1996)'), (5.0, 'Murder at 1600 (1997)'), (5.0990195135927845, 'Chain Reaction (1996)'), (5.196152422706632, \"City Slickers II: The Legend of Curly's Gold (1994)\"), (5.385164807134504, 'Drop Zone (1994)'), (5.5677643628300215, 'Angels in the Outfield (1994)'), (5.656854249492381, 'Casper (1995)')]\n",
      "\n",
      "Movies similar to Batman Forever [50] [(7.3484692283495345, 'Addams Family Values (1993)'), (7.937253933193772, 'Net, The (1995)'), (8.18535277187245, 'First Knight (1995)'), (8.366600265340756, 'Dragonheart (1996)'), (8.94427190999916, 'Eraser (1996)'), (9.1104335791443, 'Broken Arrow (1996)'), (9.16515138991168, 'Outbreak (1995)'), (9.16515138991168, 'Star Trek: Generations (1994)'), (9.16515138991168, 'Young Guns (1988)'), (9.219544457292887, 'Interview with the Vampire (1994)')]\n",
      "\n",
      "Movies similar to Batman Forever [100] [(15.491933384829668, 'Batman (1989)'), (16.30950643030009, 'Jurassic Park (1993)'), (17.146428199482248, 'Indiana Jones and the Last Crusade (1989)'), (18.05547008526779, 'Fugitive, The (1993)'), (20.46948949045872, 'Return of the Jedi (1983)'), (21.283796653792763, 'Empire Strikes Back, The (1980)'), (22.06807649071391, 'Raiders of the Lost Ark (1981)'), (22.693611435820433, 'Star Wars (1977)'), ([[inf]], \"'Til There Was You (1997)\"), ([[inf]], '1-900 (1994)')]\n",
      "\n",
      "\n",
      "\n",
      "\n",
      "Movies similar to Shawshank Redemption [25] [(4.0, 'Some Folks Call It a Sling Blade (1993)'), (5.477225575051661, 'Roman Holiday (1953)'), (5.5677643628300215, 'To Catch a Thief (1955)'), (5.656854249492381, 'Looking for Richard (1996)'), (5.916079783099616, 'As Good As It Gets (1997)'), (5.916079783099616, 'Thin Blue Line, The (1988)'), (6.244997998398398, 'Amistad (1997)'), (6.324555320336759, 'Candidate, The (1972)'), (6.4031242374328485, 'M (1931)'), (6.4031242374328485, 'Manon of the Spring (Manon des sources) (1986)')]\n",
      "\n",
      "Movies similar to Shawshank Redemption [50] [(6.782329983125268, 'Close Shave, A (1995)'), (7.3484692283495345, 'Good Will Hunting (1997)'), (7.615773105863909, 'High Noon (1952)'), (8.12403840463596, 'Treasure of the Sierra Madre, The (1948)'), (8.246211251235321, 'Mr. Smith Goes to Washington (1939)'), (8.366600265340756, 'Hamlet (1996)'), (8.426149773176359, 'Manchurian Candidate, The (1962)'), (8.831760866327848, 'Secrets & Lies (1996)'), (8.888194417315589, '12 Angry Men (1957)'), (8.888194417315589, 'Cinema Paradiso (1988)')]\n",
      "\n",
      "Movies similar to Shawshank Redemption [100] [(9.273618495495704, 'Glory (1989)'), (9.9498743710662, 'North by Northwest (1959)'), (10.344080432788601, 'Rear Window (1954)'), (10.44030650891055, 'Cool Hand Luke (1967)'), (10.723805294763608, 'Searching for Bobby Fischer (1993)'), (10.770329614269007, 'To Kill a Mockingbird (1962)'), (10.816653826391969, 'Vertigo (1958)'), (10.908712114635714, 'Bridge on the River Kwai, The (1957)'), (11.090536506409418, 'Right Stuff, The (1983)'), (11.269427669584644, \"It's a Wonderful Life (1946)\")]\n",
      "\n",
      "\n",
      "\n"
     ]
    }
   ],
   "source": [
    "#print get_top_k_similar_movies(\"Toy Story (1995)\", 10)\n",
    "print \"\\nMovies similar to GoldenEye [25]\", get_top_k_similar_movies(\"GoldenEye (1995)\", 10, 25)\n",
    "print \"\\nMovies similar to GoldenEye [50]\", get_top_k_similar_movies(\"GoldenEye (1995)\", 10, 50)\n",
    "print \"\\nMovies similar to GoldenEye [100]\", get_top_k_similar_movies(\"GoldenEye (1995)\", 10, 100)\n",
    "print \"\\n\\n\"\n",
    "\n",
    "print \"\\nMovies similar to Usual Suspects [25]\", get_top_k_similar_movies(\"Usual Suspects, The (1995)\", 10, 25)\n",
    "print \"\\nMovies similar to Usual Suspects [50]\", get_top_k_similar_movies(\"Usual Suspects, The (1995)\", 10, 50)\n",
    "print \"\\nMovies similar to Usual Suspects [100]\", get_top_k_similar_movies(\"Usual Suspects, The (1995)\", 10, 100)\n",
    "print \"\\n\\n\"\n",
    "\n",
    "print \"\\nMovies similar to Batman Forever [25]\", get_top_k_similar_movies(\"Batman Forever (1995)\", 10, 25)\n",
    "print \"\\nMovies similar to Batman Forever [50]\", get_top_k_similar_movies(\"Batman Forever (1995)\", 10, 50)\n",
    "print \"\\nMovies similar to Batman Forever [100]\", get_top_k_similar_movies(\"Batman Forever (1995)\", 10, 100)\n",
    "print \"\\n\\n\"\n",
    "\n",
    "print \"\\nMovies similar to Shawshank Redemption [25]\", get_top_k_similar_movies(\"Shawshank Redemption, The (1994)\", 10, 25)\n",
    "print \"\\nMovies similar to Shawshank Redemption [50]\", get_top_k_similar_movies(\"Shawshank Redemption, The (1994)\", 10, 50)\n",
    "print \"\\nMovies similar to Shawshank Redemption [100]\", get_top_k_similar_movies(\"Shawshank Redemption, The (1994)\", 10, 100)\n",
    "print \"\\n\\n\"\n"
   ]
  },
  {
   "cell_type": "markdown",
   "metadata": {},
   "source": [
    "#Task 3: Item based Collaborative Filtering\n",
    "\n",
    "In this task, let us try to perform item based collaborative filtering. In spirit, it is very similar to what you already did for Task 2. With some minor changes, you can easily build an item based collaborative filtering recommenders."
   ]
  },
  {
   "cell_type": "code",
   "execution_count": 20,
   "metadata": {
    "collapsed": false
   },
   "outputs": [],
   "source": [
    "#Do not change below\n",
    "# By default euclidean distance can be give arbitrary values\n",
    "# Let us \"normalize\" it by limit its value between 0 and 1 and slightly change the interpretation\n",
    "# 0 means that the preferences are very different\n",
    "# 1 means that preferences are identical\n",
    "# For tasks 3 and 4, remember to use this function\n",
    "\n",
    "#Vec1 and vec2 are vectors\n",
    "def euclidean_distance_normed(vec1, vec2):\n",
    "    if len(vec1) == 0:\n",
    "        return 0.0\n",
    "    euc_distance = euclidean_distances(vec1, vec2)[0][0]\n",
    "    return 1.0 / (1.0 + euc_distance)"
   ]
  },
  {
   "cell_type": "code",
   "execution_count": 57,
   "metadata": {
    "collapsed": false
   },
   "outputs": [],
   "source": [
    "#Task t3a:\n",
    "# In this task, you want to compute the similarity between two items\n",
    "#  which in this case means ratings_df\n",
    "# You can use code from 2c except that you must now call euclidean_distance_normed\n",
    "#  when computing the distance\n",
    "\n",
    "def calculate_similarity_normed(movie_name_1, movie_name_2, min_common_users=0):\n",
    "    movie1 = movie_name_to_id_dictionary[movie_name_1]\n",
    "    movie2 = movie_name_to_id_dictionary[movie_name_2]\n",
    "\n",
    "    #This is the set of UNIQUE user ids  who reviewed  movie1\n",
    "    users_who_rated_movie1 = movielens_df[movielens_df.MovieId==movie1].UserId.unique()\n",
    "    #print users_who_rated_movie1\n",
    "    \n",
    "    #This is the set of UNIQUE user ids  who reviewed  movie2\n",
    "    users_who_rated_movie2 = movielens_df[movielens_df.MovieId==movie2].UserId.unique()\n",
    "     \n",
    "    #Compute the common users who rated both movies: \n",
    "    # hint convert both to set and do the intersection\n",
    "    common_users = set(users_who_rated_movie1).intersection(users_who_rated_movie2)\n",
    "\n",
    "    #Using the code you wrote in t2a, get the reviews for the movies and common users\n",
    "    movie1_reviews = get_movie_reviews(movie1, common_users)\n",
    "    movie2_reviews = get_movie_reviews(movie2, common_users)\n",
    "    \n",
    "    #Do not change below\n",
    "    \n",
    "    #Now you have the data frame for both movies\n",
    "    # Use the euclidean_distances function from sklean (imported already)\n",
    "    # to compute the distance between their rating values\n",
    "    distance = euclidean_distance_normed(movie1_reviews['Rating'].values, movie2_reviews['Rating'].values)\n",
    "\n",
    "    if len(common_users) < min_common_users:\n",
    "        return 0.0\n",
    "    return distance\n",
    "\n",
    "\n",
    "#calculate_similarity_normed(\"Star Wars (1977)\", \"Fly Away Home (1996)\")\n",
    "\n",
    "#Code courtesy: http://nbviewer.ipython.org/github/jming/cs109/blob/master/HW4.ipynb"
   ]
  },
  {
   "cell_type": "code",
   "execution_count": 58,
   "metadata": {
    "collapsed": false
   },
   "outputs": [
    {
     "name": "stdout",
     "output_type": "stream",
     "text": [
      "0.0684862527649\n",
      "0.138026263116\n",
      "0.195194101601\n"
     ]
    }
   ],
   "source": [
    "#Do not change below\n",
    "print calculate_similarity_normed(\"Toy Story (1995)\", \"GoldenEye (1995)\")\n",
    "print calculate_similarity_normed(\"GoldenEye (1995)\", \"Tomorrow Never Dies (1997)\")\n",
    "print calculate_similarity_normed(\"Batman Forever (1995)\", \"Batman & Robin (1997)\")"
   ]
  },
  {
   "cell_type": "code",
   "execution_count": 23,
   "metadata": {
    "collapsed": true
   },
   "outputs": [],
   "source": [
    "#Do not change below\n",
    "\n",
    "#We are now going to create item-item similarity database\n",
    "# Since our data is \"small\", we will use a non-traditional approach of using nested hashes\n",
    "# In real-life, using something like databases or other data structures is far more preferable\n",
    "\n",
    "#Here is the high level structure\n",
    "#{\n",
    "#    movie_name_1:  \n",
    "#    { \n",
    "#        movie_name_2: similarity_between_movie_1_and_2, \n",
    "#        movie_name_3: similarity_between_movie_1_and_3, \n",
    "#        ....\n",
    "#        movie_name_n: similarity_between_movie_1_and_n\n",
    "#    },\n",
    "#    movie_name_2:\n",
    "#    {\n",
    "#        movie_name_1: similarity_between_movie_2_and_1, \n",
    "#        movie_name_3: similarity_between_movie_2_and_3, \n",
    "#        ....\n",
    "#        movie_name_n: similarity_between_movie_2_and_n\n",
    "#    },\n",
    "#    ....\n",
    "#    movie_name_n:\n",
    "#    {\n",
    "#        movie_name_1: similarity_between_movie_n_and_1, \n",
    "#        movie_name_2: similarity_between_movie_n_and_2, \n",
    "#        ....\n",
    "#        movie_name_n-1: similarity_between_movie_n_and_n-1\n",
    "#    },\n",
    "#}    \n",
    "    \n",
    "\n",
    "#Here is how to use this data structuere:\n",
    "\n",
    "#To get similarity between movies\n",
    "#   data[movie1][movie2]\n",
    "#To get similarity between one movie and all others\n",
    "#   data[movie1]"
   ]
  },
  {
   "cell_type": "code",
   "execution_count": 24,
   "metadata": {
    "collapsed": true
   },
   "outputs": [],
   "source": [
    "#DO not change below\n",
    "#This hash stores the movie to movie \n",
    "# as described above\n",
    "movie_similarity_hash = defaultdict(dict)"
   ]
  },
  {
   "cell_type": "code",
   "execution_count": 25,
   "metadata": {
    "collapsed": false
   },
   "outputs": [],
   "source": [
    "#Item based filtering is expensive as you need to compute similarity of all pairs of items\n",
    "# for this dataset it is 1682*1682 ~ 28 lakh pairs or 2.8 million\n",
    "# running all of them might take hours and close to a day\n",
    "# instead let us run on a smaller dataset\n",
    "# specifically, let us only focus on the top-250 movies based on ratings\n",
    "# which is more manageable\n",
    "\n",
    "\n",
    "#Task t3b: \n",
    "# Get the top-k movie names with most ratings\n",
    "#Hint: use Counter class\n",
    "\n",
    "def top_k_movie_names(k):\n",
    "    #movie_ratings_counter = Counter()\n",
    "    #for movie in all_movie_names:\n",
    "    #movie_ratings_counter=movielens_df['Rating'].count()\n",
    "    #a=get_movie_reviews(1, set([1]))\n",
    "    #rate = movielens_df['Rating'][movielens_df.Title=='Star Wars (1977)'].count()\n",
    "    #print rate\n",
    "    movie_ratings=[]\n",
    "    for movie in movie_name_to_id_dictionary:\n",
    "        #print movie_name_to_id_dictionary.get('Chasing Amy (1997)')\n",
    "        a = movielens_df['Rating'][movielens_df.Title==movie].count()\n",
    "        movie_ratings.append((movie,a))\n",
    "        #movie_ratings_counter=Counter(movielens_df['Rating'][movielens_df.Title==movie])\n",
    "    #print movie_ratings_counter\n",
    "    #print sorted(movie_ratings)\n",
    "    #print movies\n",
    "    #Your code below\n",
    "    return sorted(movie_ratings,key=operator.itemgetter(1),reverse=True)[:k]\n",
    "    #return movie_ratings.sort(key=lambda x: x[1])\n",
    "#top_k_movie_names(10)"
   ]
  },
  {
   "cell_type": "code",
   "execution_count": 26,
   "metadata": {
    "collapsed": false
   },
   "outputs": [
    {
     "name": "stdout",
     "output_type": "stream",
     "text": [
      "Top-10 [('Star Wars (1977)', 583), ('Contact (1997)', 509), ('Fargo (1996)', 508), ('Return of the Jedi (1983)', 507), ('Liar Liar (1997)', 485), ('English Patient, The (1996)', 481), ('Scream (1996)', 478), ('Toy Story (1995)', 452), ('Air Force One (1997)', 431), ('Independence Day (ID4) (1996)', 429)] \n",
      "\n",
      "Top-25 [('Star Wars (1977)', 583), ('Contact (1997)', 509), ('Fargo (1996)', 508), ('Return of the Jedi (1983)', 507), ('Liar Liar (1997)', 485), ('English Patient, The (1996)', 481), ('Scream (1996)', 478), ('Toy Story (1995)', 452), ('Air Force One (1997)', 431), ('Independence Day (ID4) (1996)', 429), ('Raiders of the Lost Ark (1981)', 420), ('Godfather, The (1972)', 413), ('Pulp Fiction (1994)', 394), ('Twelve Monkeys (1995)', 392), ('Silence of the Lambs, The (1991)', 390), ('Jerry Maguire (1996)', 384), ('Chasing Amy (1997)', 379), ('Rock, The (1996)', 378), ('Empire Strikes Back, The (1980)', 367), ('Star Trek: First Contact (1996)', 365), ('Back to the Future (1985)', 350), ('Titanic (1997)', 350), ('Mission: Impossible (1996)', 344), ('Fugitive, The (1993)', 336), ('Indiana Jones and the Last Crusade (1989)', 331)] \n",
      "\n"
     ]
    }
   ],
   "source": [
    "#Do not change below\n",
    "print \"Top-10\", top_k_movie_names(10), \"\\n\"\n",
    "print \"Top-25\", top_k_movie_names(25), \"\\n\""
   ]
  },
  {
   "cell_type": "code",
   "execution_count": 59,
   "metadata": {
    "collapsed": false
   },
   "outputs": [],
   "source": [
    "#Do not change below\n",
    "top_250_movie_names = [item[0] for item in top_k_movie_names(250)]"
   ]
  },
  {
   "cell_type": "code",
   "execution_count": 28,
   "metadata": {
    "collapsed": false
   },
   "outputs": [],
   "source": [
    "#Task t3c:\n",
    "#Use the following logic\n",
    "#  for each movie in movie_names:\n",
    "#    for all other movies in movie_names:\n",
    "#      compute similarity between  two movies using calculate_similarity_normed\n",
    "#      remember to pass min_common_users to that function\n",
    "#  note that movie_similarity_hash is a defaultdict \n",
    "#  so similarity between movie1 and movie2 can be set as movie_similarity_hash[movie1][movie2]\n",
    "#  btw, similarity in our case is commutative. \n",
    "#   i.e. similarity(movie1, movie2) = similarity(movie2, movie1)\n",
    "#   so do not call the function twice !\n",
    "# movie_names is an array that lists the movies for which you have to compute pairwise similarity\n",
    "def compute_movie_to_movie_similarity(movie_names, min_common_users=0):\n",
    "    #Your code beloww\n",
    "    #print movie_names\n",
    "    for movie1 in movie_names:\n",
    "        all_other_movies=[]\n",
    "        for movie2 in movie_names:\n",
    "            if(movie1!=movie2):\n",
    "                all_other_movies.append(movie2)\n",
    "        for movie3 in all_other_movies:\n",
    "            movie_similarity_hash[movie1][movie3]=calculate_similarity_normed(movie1, movie3, min_common_users)\n",
    "    pass"
   ]
  },
  {
   "cell_type": "code",
   "execution_count": 29,
   "metadata": {
    "collapsed": false
   },
   "outputs": [
    {
     "data": {
      "text/plain": [
       "{'Air Force One (1997)': 0.05697049581409102,\n",
       " 'Contact (1997)': 0.046577726053728993,\n",
       " 'English Patient, The (1996)': 0.047393923678019305,\n",
       " 'Fargo (1996)': 0.039703378843999403,\n",
       " 'Independence Day (ID4) (1996)': 0.040932023773211611,\n",
       " 'Liar Liar (1997)': 0.045702558661657698,\n",
       " 'Return of the Jedi (1983)': 0.046005690800297719,\n",
       " 'Scream (1996)': 0.048137743418679969,\n",
       " 'Star Wars (1977)': 0.040475114406879495}"
      ]
     },
     "metadata": {},
     "output_type": "display_data"
    },
    {
     "data": {
      "text/plain": [
       "{'Air Force One (1997)': 0.047007646177349489,\n",
       " 'Contact (1997)': 0.045210588948186241,\n",
       " 'English Patient, The (1996)': 0.04318065266563334,\n",
       " 'Fargo (1996)': 0.038852101069895194,\n",
       " 'Independence Day (ID4) (1996)': 0.038974721601113524,\n",
       " 'Liar Liar (1997)': 0.037548797615781393,\n",
       " 'Scream (1996)': 0.041895006229997207,\n",
       " 'Star Wars (1977)': 0.052554803633703538,\n",
       " 'Toy Story (1995)': 0.046005690800297719}"
      ]
     },
     "metadata": {},
     "output_type": "display_data"
    },
    {
     "name": "stdout",
     "output_type": "stream",
     "text": [
      "0.0409320237732\n"
     ]
    }
   ],
   "source": [
    "#Do not change below\n",
    "\n",
    "#Let us first test if your code above is correct by testing against a small subset of data\n",
    "movie_similarity_hash = defaultdict(dict)\n",
    "# let use the top-10 movies\n",
    "compute_movie_to_movie_similarity(top_250_movie_names[:10], min_common_users=0)\n",
    "\n",
    "#Get similarity with \n",
    "display(movie_similarity_hash[\"Toy Story (1995)\"])\n",
    "display(movie_similarity_hash['Return of the Jedi (1983)'])\n",
    "\n",
    "print movie_similarity_hash[\"Toy Story (1995)\"][\"Independence Day (ID4) (1996)\"]"
   ]
  },
  {
   "cell_type": "code",
   "execution_count": 30,
   "metadata": {
    "collapsed": false
   },
   "outputs": [],
   "source": [
    "#Do not change below\n",
    "#Let us now test against top-250 most popular movies\n",
    "#This might take 10-20 mins to run!\n",
    "movie_similarity_hash = defaultdict(dict)\n",
    "compute_movie_to_movie_similarity(top_250_movie_names, min_common_users=25)\n"
   ]
  },
  {
   "cell_type": "code",
   "execution_count": 31,
   "metadata": {
    "collapsed": false
   },
   "outputs": [],
   "source": [
    "#Do not change below\n",
    "#Do this if you want to persist the data \n",
    "\n",
    "# Let us persist the movie-movie similarity data structure \n",
    "# that way you dont need to re-run the whole thing\n",
    "#pickle is a serialization library in Python\n",
    "# To persist/serialize, use the following line\n",
    "pickle.dump(movie_similarity_hash, open(\"movie_similarity.pickle\", \"wb\"))\n",
    "# To deserialize, uncomment the following line \n",
    "movie_similarity_hash = pickle.load( open( \"movie_similarity.pickle\", \"rb\" ) )\n"
   ]
  },
  {
   "cell_type": "code",
   "execution_count": 32,
   "metadata": {
    "collapsed": false
   },
   "outputs": [
    {
     "name": "stdout",
     "output_type": "stream",
     "text": [
      "Top-10 most similar movies for  Star Wars (1977)  : [('Fly Away Home (1996)', 0.12613198362288319), (\"Ulee's Gold (1997)\", 0.084626326089585924), ('Good Will Hunting (1997)', 0.082402672566341831), ('Apt Pupil (1998)', 0.080920442903129275), ('Gattaca (1997)', 0.080069658725771431), ('Wag the Dog (1997)', 0.07979214086871815), ('Sling Blade (1996)', 0.079245895810613809), ('African Queen, The (1951)', 0.07871102875529136), ('Rainmaker, The (1997)', 0.07844773813482285), ('Secrets & Lies (1996)', 0.075254704849630052)]\n",
      "\n",
      "\n",
      "Top-10 most similar movies for  Contact (1997)  : [('Philadelphia (1993)', 0.10230216299200159), ('Sling Blade (1996)', 0.094882133490771736), ('Fried Green Tomatoes (1991)', 0.093051003668180476), ('Room with a View, A (1986)', 0.092610094432975923), (\"Singin' in the Rain (1952)\", 0.092175602102042759), ('Shine (1996)', 0.092175602102042759), ('Maltese Falcon, The (1941)', 0.092175602102042759), ('Bound (1996)', 0.091747370480532636), ('Sneakers (1992)', 0.091747370480532636), ('Mask, The (1994)', 0.089695015344041368)]\n",
      "\n",
      "\n",
      "Top-10 most similar movies for  Fargo (1996)  : [('Manchurian Candidate, The (1962)', 0.099449199236264399), (\"Ulee's Gold (1997)\", 0.08815170219611887), ('Maltese Falcon, The (1941)', 0.087410245452875457), ('Good Will Hunting (1997)', 0.085983444756559363), ('Sling Blade (1996)', 0.084297269155557394), ('Rainmaker, The (1997)', 0.081799777282574593), ('African Queen, The (1951)', 0.081210303141612275), ('Wag the Dog (1997)', 0.080920442903129275), ('Rear Window (1954)', 0.07844773813482285), ('Vertigo (1958)', 0.07844773813482285)]\n",
      "\n",
      "\n",
      "Top-10 most similar movies for  Return of the Jedi (1983)  : [('Fly Away Home (1996)', 0.12849622184722817), (\"Ulee's Gold (1997)\", 0.10676232268609791), ('Gattaca (1997)', 0.093952725662966904), ('Wag the Dog (1997)', 0.091747370480532636), ('Rainmaker, The (1997)', 0.090094108300614636), ('Seven Years in Tibet (1997)', 0.089301349778500683), ('Shine (1996)', 0.08704668331836253), ('Apt Pupil (1998)', 0.086687761389570364), ('Kiss the Girls (1997)', 0.084626326089585924), ('Sling Blade (1996)', 0.083019512538737683)]\n",
      "\n",
      "\n",
      "Top-10 most similar movies for  Liar Liar (1997)  : [('Mask, The (1994)', 0.096331396777550107), ('While You Were Sleeping (1995)', 0.091325248684348978), ('Ghost and the Darkness, The (1996)', 0.090498756211208911), ('GoldenEye (1995)', 0.090094108300614636), ('Maverick (1994)', 0.08815170219611887), ('Con Air (1997)', 0.083972136564709449), ('River Wild, The (1994)', 0.083333333333333329), ('Cape Fear (1991)', 0.083019512538737683), ('Home Alone (1990)', 0.082709315626306693), ('Pretty Woman (1990)', 0.081503394203052748)]\n",
      "\n",
      "\n",
      "Top-10 most similar movies for  English Patient, The (1996)  : [('Fried Green Tomatoes (1991)', 0.094413879633246586), ('Maverick (1994)', 0.092175602102042759), ('Room with a View, A (1986)', 0.090498756211208911), ('Cinderella (1950)', 0.090094108300614636), ('Right Stuff, The (1983)', 0.088529810866542852), ('Firm, The (1993)', 0.08815170219611887), ('Sneakers (1992)', 0.087778549957133301), ('Mask, The (1994)', 0.086333380578904162), ('Cape Fear (1991)', 0.084626326089585924), (\"Monty Python's Life of Brian (1979)\", 0.084626326089585924)]\n",
      "\n",
      "\n",
      "Top-10 most similar movies for  Scream (1996)  : [('Maverick (1994)', 0.10113069765789216), (\"Singin' in the Rain (1952)\", 0.094413879633246586), ('Cinderella (1950)', 0.088529810866542852), ('Room with a View, A (1986)', 0.088529810866542852), ('Bound (1996)', 0.084297269155557394), ('While You Were Sleeping (1995)', 0.083972136564709449), ('Philadelphia (1993)', 0.082709315626306693), ('Shine (1996)', 0.082099515221765715), ('Clueless (1995)', 0.081799777282574593), ('Crimson Tide (1995)', 0.080920442903129275)]\n",
      "\n",
      "\n",
      "Top-10 most similar movies for  Toy Story (1995)  : [(\"Ulee's Gold (1997)\", 0.11696132920126338), ('Kiss the Girls (1997)', 0.10815240673485554), ('Rainmaker, The (1997)', 0.1060878539025194), ('Gattaca (1997)', 0.10290397182775128), ('Wag the Dog (1997)', 0.10230216299200159), ('Shine (1996)', 0.10171118008217982), ('Seven Years in Tibet (1997)', 0.098907726574930466), ('Cool Hand Luke (1967)', 0.0973366881823024), ('Peacemaker, The (1997)', 0.095840694682461411), ('Manchurian Candidate, The (1962)', 0.093051003668180476)]\n",
      "\n",
      "\n",
      "Top-10 most similar movies for  Air Force One (1997)  : [('Cinderella (1950)', 0.11519216806670013), ('While You Were Sleeping (1995)', 0.11189119247086728), ('Firm, The (1993)', 0.11034777731716484), ('Sneakers (1992)', 0.10960059084055324), ('Maverick (1994)', 0.10230216299200159), ('Crimson Tide (1995)', 0.10230216299200159), ('Bound (1996)', 0.10171118008217982), ('GoldenEye (1995)', 0.10113069765789216), ('Hunt for Red October, The (1990)', 0.10056040392403998), ('Mask, The (1994)', 0.10000000000000001)]\n",
      "\n",
      "\n",
      "Top-10 most similar movies for  Independence Day (ID4) (1996)  : [('Rainmaker, The (1997)', 0.11034777731716484), ('Kiss the Girls (1997)', 0.10745035092526581), ('Gattaca (1997)', 0.10477782979607683), (\"Ulee's Gold (1997)\", 0.10171118008217982), ('Peacemaker, The (1997)', 0.098907726574930466), ('Seven Years in Tibet (1997)', 0.093952725662966904), ('Wag the Dog (1997)', 0.091747370480532636), ('Cop Land (1997)', 0.089301349778500683), ('G.I. Jane (1997)', 0.087778549957133301), ('Maverick (1994)', 0.086333380578904162)]\n",
      "\n",
      "\n"
     ]
    }
   ],
   "source": [
    "#Do not change below\n",
    "for movie_name in top_250_movie_names[:10]:\n",
    "    print \"Top-10 most similar movies for \", movie_name, \" :\", \n",
    "    print sorted(movie_similarity_hash[movie_name].items(), key=operator.itemgetter(1), reverse=True)[:10]\n",
    "    print \"\\n\"\n"
   ]
  },
  {
   "cell_type": "code",
   "execution_count": 33,
   "metadata": {
    "collapsed": false,
    "scrolled": true
   },
   "outputs": [],
   "source": [
    "#Task t3d\n",
    "\n",
    "#Before doing t3d, please complete t4a so that user_rating_hash is available\n",
    "# this will make the code below easier\n",
    "\n",
    "#In this task, we are going to predict the rating of a user u for a movie m using item based collaborative filtering\n",
    "#Here is the high level logic:\n",
    "# for each item i rated by this user:\n",
    "#    s = similarity between i and input movie m \n",
    "#    if similarity between i and m is 0, ignore this item \n",
    "#    compute weighted rating for m based on i as rating for i * s\n",
    "# compute the predicted rating as sum of all weighted ratings / sum of all similarities\n",
    "\n",
    "def predict_rating_for_movie_icf(movie_similarity_hash, input_user_id, input_movie_name, movies_considered):\n",
    "    total_weighted_rating = 0.0\n",
    "    total_similarity= 0.0\n",
    "        \n",
    "    #Hint: movie_similarity_hash is a nested hash where user id is key and \n",
    "    #  all their rating as a dictionary  \n",
    "    # this dictionary is ordered as moviename: rating\n",
    "\n",
    "    #if this user has already rated the movie, return that rating\n",
    "    \n",
    "    #For each movie the user has rated\n",
    "\n",
    "        #if user rated some movie, but it is not in the subset of movies that we computed pairwise similarity\n",
    "        # such as top-250, then do not consider it either\n",
    "        # for this task, the input is in movies_considered \n",
    "        \n",
    "        #compute similarity between movies\n",
    "        #dont recompute = use the hash\n",
    "        \n",
    "        #Reject item if similarity is 0\n",
    "                     \n",
    "        #Compute weighted rating\n",
    "        \n",
    "        #update total_weighted_rating and total_similarity\n",
    "    \n",
    "    for movie in (user_rating_hash[input_user_id].keys()):\n",
    "        weights=[]\n",
    "        if (movie in movies_considered):\n",
    "            sim = movie_similarity_hash[movie][input_movie_name]\n",
    "            total_similarity+=sim\n",
    "            if (sim!=0):\n",
    "                rating = user_rating_hash[input_user_id].get(movie)\n",
    "                weighted_rating=sim*rating\n",
    "                total_weighted_rating+=weighted_rating\n",
    "    #print total_weighted_rating\n",
    "    #print total_weighted_rating / total_similarity                        \n",
    "    #Do not change below\n",
    "    if total_similarity == 0.0:\n",
    "        return 0.0\n",
    "    \n",
    "    return total_weighted_rating / total_similarity"
   ]
  },
  {
   "cell_type": "code",
   "execution_count": 38,
   "metadata": {
    "collapsed": false
   },
   "outputs": [
    {
     "name": "stdout",
     "output_type": "stream",
     "text": [
      "1 [('Liar Liar (1997)', 3.83), ('English Patient, The (1996)', 3.87), ('Scream (1996)', 3.87), ('Air Force One (1997)', 3.87)]\n",
      "2 [('Return of the Jedi (1983)', 3.91), ('Independence Day (ID4) (1996)', 3.85), ('Raiders of the Lost Ark (1981)', 3.92), ('Pulp Fiction (1994)', 3.93), ('Twelve Monkeys (1995)', 3.87), ('Silence of the Lambs, The (1991)', 3.91), ('Chasing Amy (1997)', 3.89), ('Rock, The (1996)', 3.86), ('Empire Strikes Back, The (1980)', 3.91), ('Star Trek: First Contact (1996)', 3.86)]\n",
      "3 [('Star Wars (1977)', 2.95), ('Fargo (1996)', 2.92), ('English Patient, The (1996)', 2.92), ('Toy Story (1995)', 2.92), ('Independence Day (ID4) (1996)', 2.89), ('Raiders of the Lost Ark (1981)', 2.92), ('Godfather, The (1972)', 2.93), ('Pulp Fiction (1994)', 2.95), ('Twelve Monkeys (1995)', 2.94), ('Silence of the Lambs, The (1991)', 2.92), ('Jerry Maguire (1996)', 2.9), ('Rock, The (1996)', 2.89), ('Empire Strikes Back, The (1980)', 2.95), ('Star Trek: First Contact (1996)', 2.9)]\n",
      "4 [('Fargo (1996)', 4.21), ('Return of the Jedi (1983)', 4.26), ('English Patient, The (1996)', 4.17), ('Toy Story (1995)', 4.23), ('Independence Day (ID4) (1996)', 4.18), ('Raiders of the Lost Ark (1981)', 4.27), ('Godfather, The (1972)', 4.24), ('Pulp Fiction (1994)', 4.25), ('Twelve Monkeys (1995)', 4.24), ('Silence of the Lambs, The (1991)', 4.27), ('Jerry Maguire (1996)', 4.23), ('Chasing Amy (1997)', 4.19), ('Rock, The (1996)', 4.23), ('Empire Strikes Back, The (1980)', 4.29), ('Star Trek: First Contact (1996)', 4.22)]\n",
      "5 [('Contact (1997)', 3.35), ('Liar Liar (1997)', 3.25), ('English Patient, The (1996)', 3.31), ('Scream (1996)', 3.3), ('Air Force One (1997)', 3.29), ('Godfather, The (1972)', 3.36), ('Pulp Fiction (1994)', 3.34), ('Twelve Monkeys (1995)', 3.35), ('Jerry Maguire (1996)', 3.32), ('Chasing Amy (1997)', 3.36), ('Rock, The (1996)', 3.32)]\n"
     ]
    }
   ],
   "source": [
    "#Do not change below\n",
    "#Let us compute the rating for first 5 users for the top-20 movies that they have not seen\n",
    "for user_id in range(1, 5+1):\n",
    "    print user_id, [ (movie_name, \n",
    "                        round(predict_rating_for_movie_icf(movie_similarity_hash, user_id, movie_name, top_250_movie_names),2))\n",
    "                       for movie_name in top_250_movie_names[:20] \n",
    "                        if movie_name not in user_rating_hash[user_id]]\n",
    "           \n",
    "#print movie_name, predict_rating_for_movie_icf(movie_similarity_hash, 1, 'Liar Liar (1997)', min_common_users=25)\n",
    "\n"
   ]
  },
  {
   "cell_type": "code",
   "execution_count": 40,
   "metadata": {
    "collapsed": false
   },
   "outputs": [],
   "source": [
    "#Task t3e: \n",
    "#Here is the pseudocode for recommending movies\n",
    "# for each movie this user has not rated in movies_considered:\n",
    "#           predict rating for this movie and this user using t4d\n",
    "#  return the top-k movies\n",
    "def recommend_movies_icf(input_user_id, movies_considered, movie_similarity_hash,\n",
    "                             user_rating_hash, k=10, min_common_movies=5):\n",
    "    predicted_ratings = []\n",
    "    \n",
    "    #Your code here\n",
    "    for movie in movies_considered:\n",
    "        if(user_rating_hash[input_user_id].get(movie)==None):\n",
    "            predicted_ratings.append((predict_rating_for_movie_icf(movie_similarity_hash, input_user_id, movie, top_250_movie_names),movie))\n",
    "            \n",
    "    \n",
    "    return sorted(predicted_ratings, reverse=True)[:k]"
   ]
  },
  {
   "cell_type": "code",
   "execution_count": 41,
   "metadata": {
    "collapsed": false
   },
   "outputs": [
    {
     "name": "stdout",
     "output_type": "stream",
     "text": [
      "1 [(4.1925848292261962, 'Fly Away Home (1996)'), (4.0983740953356511, \"Ulee's Gold (1997)\"), (4.0853921793090748, 'Seven Years in Tibet (1997)'), (3.9897313336931295, 'Maltese Falcon, The (1941)'), (3.9879158866803466, 'Manchurian Candidate, The (1962)'), (3.9876557080885249, 'Cop Land (1997)'), (3.9782574914172879, 'Wag the Dog (1997)'), (3.978195449823783, \"Singin' in the Rain (1952)\"), (3.9776616970615382, 'Secrets & Lies (1996)'), (3.9561068860479827, 'Mother (1996)')]\n",
      "2 [(4.0808708045508908, 'Cool Hand Luke (1967)'), (4.0758760619946868, 'Maltese Falcon, The (1941)'), (4.0533051054926501, 'Patton (1970)'), (4.0083596465934832, 'Reservoir Dogs (1992)'), (3.9881299279283864, 'Wag the Dog (1997)'), (3.9839921546749677, 'Bound (1996)'), (3.9765105208616371, 'Father of the Bride Part II (1995)'), (3.9734726233103057, 'Abyss, The (1989)'), (3.9617904510489481, 'Rumble in the Bronx (1995)'), (3.9401087977258875, 'Manchurian Candidate, The (1962)')]\n",
      "3 [(4.0, 'Fly Away Home (1996)'), (3.2010326559372495, 'Chinatown (1974)'), (3.157701069290638, 'Beavis and Butt-head Do America (1996)'), (3.143952685392172, 'Ed Wood (1994)'), (3.1433803387730994, 'Clerks (1994)'), (3.1237868346046724, 'Austin Powers: International Man of Mystery (1997)'), (3.0798009033435956, 'Annie Hall (1977)'), (3.0759377820139293, 'Room with a View, A (1986)'), (3.0697683194380638, 'Postino, Il (1994)'), (3.0661680108458311, 'Mighty Aphrodite (1995)')]\n",
      "4 [(5.0, 'Fly Away Home (1996)'), (4.4632038663842257, 'Searching for Bobby Fischer (1993)'), (4.4196965100181682, 'Mighty Aphrodite (1995)'), (4.4191100601766378, 'To Kill a Mockingbird (1962)'), (4.4169766165480482, 'North by Northwest (1959)'), (4.4094677480337543, 'Emma (1996)'), (4.4042857143634695, 'Vertigo (1958)'), (4.4034520554502796, 'Postino, Il (1994)'), (4.3967716982383376, 'Secrets & Lies (1996)'), (4.3856413995509103, 'Big Night (1996)')]\n",
      "5 [(3.7183255738053607, 'Fly Away Home (1996)'), (3.6633254211881798, \"Ulee's Gold (1997)\"), (3.5372799055697985, 'Cop Land (1997)'), (3.5149683822988829, 'Seven Years in Tibet (1997)'), (3.469581917447591, 'Bound (1996)'), (3.4617867390614938, 'Wag the Dog (1997)'), (3.4527021275095611, 'Rainmaker, The (1997)'), (3.4496495884364671, 'Sling Blade (1996)'), (3.4400533520469319, \"Singin' in the Rain (1952)\"), (3.4399531973912678, 'Secrets & Lies (1996)')]\n",
      "6 [(3.6450757118770802, 'Titanic (1997)'), (3.6419674474846175, 'Swingers (1996)'), (3.6346263653247584, 'Apt Pupil (1998)'), (3.6261382018050177, 'Professional, The (1994)'), (3.6238256630349728, 'Nightmare Before Christmas, The (1993)'), (3.6176103367235144, 'Philadelphia (1993)'), (3.6163393236633965, 'Manchurian Candidate, The (1962)'), (3.6158801676523433, 'Everyone Says I Love You (1996)'), (3.6148660366491452, 'Con Air (1997)'), (3.6125458805115862, 'Mystery Science Theater 3000: The Movie (1996)')]\n",
      "7 [(4.5769327294745636, 'Fly Away Home (1996)'), (4.3569138485911942, 'Boogie Nights (1997)'), (4.3430811631356416, \"Ulee's Gold (1997)\"), (4.3387217336002255, 'Everyone Says I Love You (1996)'), (4.3370856474197863, 'L.A. Confidential (1997)'), (4.334079880695576, 'Good Will Hunting (1997)'), (4.3302758538211039, 'Lone Star (1996)'), (4.3231589530937846, 'Titanic (1997)'), (4.3159277940669369, 'Bound (1996)'), (4.3140087951876245, 'Big Night (1996)')]\n",
      "8 [(4.5099993281415864, 'Fly Away Home (1996)'), (4.2346862647980528, 'Big Night (1996)'), (4.232651237329506, 'Secrets & Lies (1996)'), (4.2214676248329042, 'Maltese Falcon, The (1941)'), (4.2194500071542702, 'Manchurian Candidate, The (1962)'), (4.2112900704044289, 'Philadelphia (1993)'), (4.2088630225331416, 'Sling Blade (1996)'), (4.2047351130720045, \"Singin' in the Rain (1952)\"), (4.1991235849187269, \"Ulee's Gold (1997)\"), (4.1940617742206738, 'Remains of the Day, The (1993)')]\n",
      "9 [(5.0, 'Fly Away Home (1996)'), (4.3881344831760405, 'Sneakers (1992)'), (4.384739673791211, 'Cinderella (1950)'), (4.3728633261524967, 'Crow, The (1994)'), (4.3601856063557216, 'Good, The Bad and The Ugly, The (1966)'), (4.3583657116832946, 'GoldenEye (1995)'), (4.3537695463082429, 'Die Hard: With a Vengeance (1995)'), (4.3487405697301451, 'Nightmare Before Christmas, The (1993)'), (4.3485936712624973, \"Singin' in the Rain (1952)\"), (4.3455946019288847, 'Star Trek VI: The Undiscovered Country (1991)')]\n",
      "10 [(4.3656740682168014, \"Ulee's Gold (1997)\"), (4.3633159999804878, 'Good Will Hunting (1997)'), (4.360223994431875, 'Titanic (1997)'), (4.352806826677643, 'Tomorrow Never Dies (1997)'), (4.3500732774417745, 'Apt Pupil (1998)'), (4.3494915136704577, 'Professional, The (1994)'), (4.3491740447223943, 'Chasing Amy (1997)'), (4.34581077138371, 'Good, The Bad and The Ugly, The (1966)'), (4.3448056765651897, \"Schindler's List (1993)\"), (4.3436282240868342, 'Postino, Il (1994)')]\n"
     ]
    }
   ],
   "source": [
    "#Do not change below:\n",
    "\n",
    "#Let us predict top-5 movies for first 10 users\n",
    "for user_id in range(1,11):\n",
    "    print user_id, recommend_movies_icf(user_id, top_250_movie_names, movie_similarity_hash, \n",
    "                               user_rating_hash, k=10, min_common_movies=5)"
   ]
  },
  {
   "cell_type": "markdown",
   "metadata": {},
   "source": [
    "#Task 4: User based Collaborative Filtering\n",
    "\n",
    "In this task, let us try to perform user based collaborative filtering. "
   ]
  },
  {
   "cell_type": "code",
   "execution_count": 42,
   "metadata": {
    "collapsed": true
   },
   "outputs": [],
   "source": [
    "#In order to simplify the coding, let us create a nested hash structure to store the user-rating data\n",
    "# It will look as follows:\n",
    "#{\n",
    "#    u1: {movie_name_1:rating1, movie_name_2:rating2, ....}, \n",
    "#    ....\n",
    "#    un: {movie_name_1:rating1, movie_name_2:rating2, ....}, \n",
    "#}\n",
    "\n",
    "#Of course, we will only store the movies that the user rated\n",
    "#Use the all_movie_names to convert movie id to movie name\n",
    "# remember that Movielens uses 1 based indexing\n",
    "# so the name of movieid i is in all_movie_names[i-1]"
   ]
  },
  {
   "cell_type": "code",
   "execution_count": 43,
   "metadata": {
    "collapsed": false
   },
   "outputs": [],
   "source": [
    "#Task t4a\n",
    "#Create the data structure as discussed above\n",
    "# here is the logic:\n",
    "# for each line in file ml-100k/u.data:\n",
    "#   set user_rating_hash[user][movie] = rating\n",
    "# read the instructions above again!\n",
    "\n",
    "def compute_user_rating_hash():\n",
    "    user_rating_hash = defaultdict(dict)\n",
    "    f = open('ml-100k/u.data')\n",
    "    for line in f:\n",
    "        words = [item.strip() for item in line.split('\\t')]\n",
    "        mov_name = all_movie_names[(int(words[1])-1)]\n",
    "        user_rating_hash [int(words[0])][mov_name] = int(words[2])\n",
    "    #Your code below\n",
    "    \n",
    "    \n",
    "    return user_rating_hash"
   ]
  },
  {
   "cell_type": "code",
   "execution_count": 44,
   "metadata": {
    "collapsed": false
   },
   "outputs": [],
   "source": [
    "#Do not change below\n",
    "user_rating_hash = compute_user_rating_hash()"
   ]
  },
  {
   "cell_type": "code",
   "execution_count": 45,
   "metadata": {
    "collapsed": false
   },
   "outputs": [
    {
     "name": "stdout",
     "output_type": "stream",
     "text": [
      "943\n",
      "[271, 61, 53, 24, 175, 208, 401, 59, 22, 184, 181, 51, 632, 98, 103, 140, 28, 277, 20, 48]\n"
     ]
    },
    {
     "data": {
      "text/plain": [
       "{'Air Force One (1997)': 5,\n",
       " 'Assignment, The (1997)': 5,\n",
       " 'Blues Brothers 2000 (1998)': 5,\n",
       " 'Client, The (1994)': 3,\n",
       " 'Conspiracy Theory (1997)': 3,\n",
       " 'Contact (1997)': 5,\n",
       " 'Cop Land (1997)': 5,\n",
       " 'Desperate Measures (1998)': 5,\n",
       " 'Event Horizon (1997)': 4,\n",
       " 'In & Out (1997)': 5,\n",
       " 'Incognito (1997)': 5,\n",
       " 'Indiana Jones and the Last Crusade (1989)': 3,\n",
       " 'Liar Liar (1997)': 5,\n",
       " 'Lost Highway (1997)': 5,\n",
       " 'Mimic (1997)': 3,\n",
       " \"One Flew Over the Cuckoo's Nest (1975)\": 4,\n",
       " 'Scream (1996)': 4,\n",
       " 'Seven (Se7en) (1995)': 4,\n",
       " 'Spawn (1997)': 2,\n",
       " 'Star Wars (1977)': 5,\n",
       " 'Starship Troopers (1997)': 4,\n",
       " \"Ulee's Gold (1997)\": 5,\n",
       " 'Wedding Singer, The (1998)': 5,\n",
       " 'Wonderland (1997)': 5}"
      ]
     },
     "metadata": {},
     "output_type": "display_data"
    }
   ],
   "source": [
    "#Do not change below\n",
    "#How many users are there?\n",
    "print len(user_rating_hash.keys())\n",
    "#How many movies did each of the first 20 users rated?\n",
    "print [len(user_rating_hash[i].keys()) for i in range(1,20+1)] \n",
    "#print the ratings of user 4\n",
    "display(user_rating_hash[4])"
   ]
  },
  {
   "cell_type": "code",
   "execution_count": 46,
   "metadata": {
    "collapsed": true
   },
   "outputs": [],
   "source": [
    "#Task t4b:\n",
    "#We need to modify our logic for computing distance\n",
    "#Here is the high level pseudocode:\n",
    "# movie1 = movie names rated by user 1\n",
    "# movie2 = movie names rated by user 2\n",
    "# common movies = set intersection of movie1 and movie2\n",
    "# if number of common movies is less than min_common_movies, return 0.0 [not 0]\n",
    "# other wise create a vector with rating for common movies only\n",
    "# compute euclidean distance between the vectors\n",
    "# return 1 / (1+euclidean distace)\n",
    "\n",
    "def compute_user_user_similarity(user_rating_hash, user_id_1, user_id_2, min_common_movies=0):\n",
    "    #Get list of movie names rated by user 1. hint use keys function [see above for usage]\n",
    "    \n",
    "    movie1 = user_rating_hash[user_id_1].keys()\n",
    "    movie2 = user_rating_hash[user_id_2].keys()\n",
    "    \n",
    "    #compute common movies\n",
    "    common_movies = set(movie1).intersection(movie2)\n",
    "    \n",
    "    if len(common_movies) < min_common_movies:\n",
    "        return 0.0\n",
    "    \n",
    "    common_movies = sorted(list(common_movies))\n",
    "    \n",
    "    #vector1 is the set of ratings for user1 for movies in common_movies\n",
    "    vector1 = [user_rating_hash[user_id_1].get(i) for i in common_movies]\n",
    "    #vector2 is the set of ratings for user2 for movies in common_movies\n",
    "    vector2 = [user_rating_hash[user_id_2].get(i) for i in common_movies]\n",
    "    \n",
    "    #Compute distance and return 1.0/(1.0+distance)\n",
    "    distance = euclidean_distances(vector1, vector2)[0][0]\n",
    "    return 1.0 / ( 1.0 + distance)\n",
    "\n",
    "\n",
    "#Code courtesy: http://nbviewer.ipython.org/github/jming/cs109/blob/master/HW4.ipynb"
   ]
  },
  {
   "cell_type": "code",
   "execution_count": 47,
   "metadata": {
    "collapsed": false
   },
   "outputs": [
    {
     "name": "stdout",
     "output_type": "stream",
     "text": [
      "[1.0, 0.16, 0.16, 0.19, 0.08, 0.07, 0.06, 0.16, 0.31, 0.1]\n",
      "[0.19, 0.19, 0.11, 0.33, 1.0, 0.19, 0.18, 0.5, 0.21, 0.29]\n"
     ]
    }
   ],
   "source": [
    "#Testing code\n",
    "print [round(compute_user_user_similarity(user_rating_hash, 1, i),2) for i in range(1, 10+1)]\n",
    "print [round(compute_user_user_similarity(user_rating_hash, 784, i),2) for i in range(1, 10+1)]"
   ]
  },
  {
   "cell_type": "code",
   "execution_count": 48,
   "metadata": {
    "collapsed": true
   },
   "outputs": [],
   "source": [
    "#Task t4c\n",
    "#This function finds the k-most similar users \n",
    "#Here is the high level logic:\n",
    "#  for each user in all_user_ids other than the input user id:\n",
    "#     find similarity between this user and input_user_id and store as (similarity, other userid)\n",
    "#     sort based on similarity\n",
    "#  return top-k\n",
    "# remember to pass min_common_movies\n",
    "def top_k_most_similar_users(user_rating_hash, input_user_id, all_user_ids, k=10, min_common_movies=0):\n",
    "    user_similarity = []\n",
    "    for ids in all_user_ids:\n",
    "        if(input_user_id != ids):\n",
    "            sim = compute_user_user_similarity(user_rating_hash,input_user_id,ids,min_common_movies)\n",
    "            user_similarity.append((sim,ids))\n",
    "        #pass\n",
    "        \n",
    "    #Your code below\n",
    "\n",
    "    return sorted(user_similarity, reverse=True)[:k]"
   ]
  },
  {
   "cell_type": "code",
   "execution_count": 49,
   "metadata": {
    "collapsed": false
   },
   "outputs": [
    {
     "name": "stdout",
     "output_type": "stream",
     "text": [
      "[(0.41421356237309509, 876), (0.36602540378443865, 105), (0.33333333333333331, 895), (0.33333333333333331, 282), (0.33333333333333331, 107), (0.3090169943749474, 842), (0.3090169943749474, 696), (0.3090169943749474, 520), (0.3090169943749474, 516), (0.3090169943749474, 433)]\n",
      "[(0.3090169943749474, 516), (0.3090169943749474, 433), (0.3090169943749474, 359), (0.25, 800), (0.25, 691), (0.2402530733520421, 564), (0.2402530733520421, 549), (0.2402530733520421, 46), (0.23166247903553999, 941), (0.22400923773979589, 252)]\n",
      "[(0.5, 816), (0.5, 768), (0.41421356237309509, 555), (0.41421356237309509, 4), (0.36602540378443865, 534), (0.36602540378443865, 314), (0.36602540378443865, 127), (0.36602540378443865, 38), (0.33333333333333331, 826), (0.33333333333333331, 727)]\n",
      "[(0.21712927295533244, 451), (0.16396078054371141, 782), (0.13652705949581431, 721), (0.095840694682461411, 181), (0.0, 943), (0.0, 942), (0.0, 941), (0.0, 940), (0.0, 939), (0.0, 938)]\n"
     ]
    }
   ],
   "source": [
    "#Do not change below\n",
    "all_user_ids = range(1, 943+1)\n",
    "print top_k_most_similar_users(user_rating_hash, 1, all_user_ids, 10, 5)\n",
    "print top_k_most_similar_users(user_rating_hash, 1, all_user_ids, 10, 10)\n",
    "print top_k_most_similar_users(user_rating_hash, 812, all_user_ids, 10, 5)\n",
    "print top_k_most_similar_users(user_rating_hash, 812, all_user_ids, 10, 20)"
   ]
  },
  {
   "cell_type": "code",
   "execution_count": 50,
   "metadata": {
    "collapsed": false
   },
   "outputs": [],
   "source": [
    "#Task t4d\n",
    "#In this task, we are going to predict the rating of a user for a movie using user based collaborative filtering\n",
    "#Here is the high level logic:\n",
    "# for each user u in all_user_ids:\n",
    "#    s= similarity between u and input_user_id [remember to pass min_common_movies]\n",
    "#    if similairty is 0.0 ignore u\n",
    "#    if u has not rated this movie, ignore again\n",
    "#    suppose u has rated this movie with a value of r\n",
    "#    i am now going to give a \"weighted rating\" as r*s\n",
    "# compute the predicted rating as sum of all weighted ratings / sum of all similarities\n",
    "\n",
    "def predict_rating_for_movie_ucf(user_rating_hash, input_user_id, movie_name, all_user_ids, min_common_movies=5):\n",
    "    total_weighted_rating = 0.0\n",
    "    total_similarity= 0.0\n",
    "\n",
    "    #For each user id\n",
    "\n",
    "        #except input_user_id \n",
    "        \n",
    "        #compute similarity between users\n",
    "    similarity = None\n",
    "        \n",
    "        #Reject user if similarity is 0\n",
    "            \n",
    "        #reject user if (s)he has not rated the movie\n",
    "            \n",
    "        #Compute weighted rating\n",
    "        \n",
    "        #update total_weighted_rating and total_similarity\n",
    "    for user in all_user_ids:\n",
    "        if(user!=input_user_id):\n",
    "            similarity = compute_user_user_similarity(user_rating_hash, user, input_user_id, min_common_movies)\n",
    "            if(similarity!=0.0):\n",
    "                if (user_rating_hash[user].get(movie_name)!=None):\n",
    "                    total_similarity+=similarity\n",
    "                    rating=user_rating_hash[user].get(movie_name)\n",
    "                    weighted_rating=rating*similarity\n",
    "                    total_weighted_rating+=weighted_rating\n",
    "    #Do not change below\n",
    "    if total_similarity == 0.0:\n",
    "        return 0.0\n",
    "    \n",
    "    return total_weighted_rating / total_similarity"
   ]
  },
  {
   "cell_type": "code",
   "execution_count": 51,
   "metadata": {
    "collapsed": false
   },
   "outputs": [
    {
     "name": "stdout",
     "output_type": "stream",
     "text": [
      "user_id =  1\n",
      "[3.2, 3.1, 3.6, 3.3, 3.8, 3.8, 4.0, 3.9, 3.9, 3.9]\n",
      "[3.2, 3.1, 3.6, 3.3, 3.5, 3.8, 4.0, 3.9, 3.9, 3.8]\n",
      "\n",
      "\n",
      "user_id =  2\n",
      "[3.2, 3.1, 3.6, 3.3, 3.7, 3.8, 4.0, 3.9, 3.8, 3.9]\n",
      "[3.2, 3.1, 3.6, 3.3, 3.5, 3.8, 4.1, 3.9, 3.8, 3.8]\n",
      "\n",
      "\n",
      "user_id =  3\n",
      "[3.2, 3.0, 3.6, 3.3, 3.4, 3.8, 3.9, 3.9, 3.8, 3.9]\n",
      "[3.0, 2.8, 3.5, 3.1, 3.2, 3.8, 4.0, 3.9, 3.7, 3.8]\n",
      "\n",
      "\n",
      "user_id =  4\n",
      "[3.3, 3.0, 3.6, 3.4, 3.4, 3.8, 3.9, 3.9, 3.7, 3.9]\n",
      "[3.2, 2.9, 3.4, 3.0, 2.8, 3.8, 4.0, 3.8, 3.5, 3.9]\n",
      "\n",
      "\n",
      "user_id =  5\n",
      "[3.2, 3.0, 3.5, 3.3, 3.6, 3.8, 4.0, 3.8, 3.8, 3.8]\n",
      "[3.2, 3.0, 3.5, 3.3, 3.5, 3.8, 4.0, 3.8, 3.8, 3.8]\n",
      "\n",
      "\n"
     ]
    }
   ],
   "source": [
    "#Do not change below\n",
    "all_user_ids = range(1, 943+1)\n",
    "for user_id in range(1, 5+1):\n",
    "    print \"user_id = \", user_id\n",
    "    print [ round(predict_rating_for_movie_ucf(user_rating_hash, user_id, all_movie_names[i], all_user_ids, min_common_movies=5),1)\n",
    "          for i in range(1, 10+1)]\n",
    "    print [ round(predict_rating_for_movie_ucf(user_rating_hash, user_id, all_movie_names[i], all_user_ids, min_common_movies=10),1)\n",
    "          for i in range(1, 10+1)]\n",
    "    print \"\\n\""
   ]
  },
  {
   "cell_type": "code",
   "execution_count": 52,
   "metadata": {
    "collapsed": true
   },
   "outputs": [],
   "source": [
    "#Task t4e: \n",
    "#Here is the pseudocode for recommending movies\n",
    "# for each movie this user has not rated:\n",
    "#     for all other users:\n",
    "#           predict rating for this movie and this user using t4d\n",
    "#  return the top-k movies\n",
    "def recommend_movies_ucf(user_rating_hash, all_user_ids, input_user_id, k=10, min_common_movies=5):\n",
    "    predicted_ratings = []\n",
    "    \n",
    "    #Your code here\n",
    "    for movie in all_movie_names:\n",
    "        if(user_rating_hash[input_user_id].get(movie)==None):\n",
    "            predicted_ratings.append((predict_rating_for_movie_ucf(user_rating_hash, input_user_id, movie, all_user_ids, min_common_movies),movie))\n",
    "    \n",
    "    return sorted(predicted_ratings, reverse=True)[:k]"
   ]
  },
  {
   "cell_type": "code",
   "execution_count": 53,
   "metadata": {
    "collapsed": false
   },
   "outputs": [
    {
     "name": "stdout",
     "output_type": "stream",
     "text": [
      "[(5.0000000000000009, 'Saint of Fort Washington, The (1993)'), (5.0, 'They Made Me a Criminal (1939)'), (5.0, \"Someone Else's America (1995)\"), (5.0, 'Santa with Muscles (1996)'), (5.0, 'Prefontaine (1997)'), (5.0, 'Marlene Dietrich: Shadow and Light (1996) '), (5.0, 'Little City (1998)'), (5.0, 'Great Day in Harlem, A (1994)'), (5.0, 'Entertaining Angels: The Dorothy Day Story (1996)'), (5.0, 'Aiqing wansui (1994)')]\n",
      "[(5.0000000000000009, 'Prefontaine (1997)'), (5.0, 'They Made Me a Criminal (1939)'), (5.0, 'Star Kid (1997)'), (5.0, \"Someone Else's America (1995)\"), (5.0, 'Santa with Muscles (1996)'), (5.0, 'Saint of Fort Washington, The (1993)'), (5.0, 'Marlene Dietrich: Shadow and Light (1996) '), (5.0, 'Great Day in Harlem, A (1994)'), (5.0, 'Entertaining Angels: The Dorothy Day Story (1996)'), (5.0, 'Aiqing wansui (1994)')]\n",
      "[(5.0, 'Tough and Deadly (1995)'), (5.0, 'Star Kid (1997)'), (5.0, 'Santa with Muscles (1996)'), (5.0, 'Saint of Fort Washington, The (1993)'), (5.0, 'Marlene Dietrich: Shadow and Light (1996) '), (5.0, 'Great Day in Harlem, A (1994)'), (5.0, 'Entertaining Angels: The Dorothy Day Story (1996)'), (5.0, 'Aiqing wansui (1994)'), (4.9999999999999991, 'Prefontaine (1997)'), (4.6888446196178126, 'Anna (1996)')]\n",
      "[(5.0000000000000009, 'Prefontaine (1997)'), (5.0, 'Star Kid (1997)'), (5.0, \"Someone Else's America (1995)\"), (5.0, 'Santa with Muscles (1996)'), (5.0, 'Saint of Fort Washington, The (1993)'), (5.0, 'Marlene Dietrich: Shadow and Light (1996) '), (5.0, 'Little City (1998)'), (5.0, 'Great Day in Harlem, A (1994)'), (4.6385142554001959, 'Leading Man, The (1996)'), (4.6325248550982909, 'Crossfire (1947)')]\n"
     ]
    }
   ],
   "source": [
    "#Do not change below\n",
    "all_user_ids = range(1, 943+1)\n",
    "\n",
    "for user_id in range(1, 5):\n",
    "    print recommend_movies_ucf(user_rating_hash, all_user_ids, user_id, k=10, min_common_movies=5)"
   ]
  },
  {
   "cell_type": "markdown",
   "metadata": {},
   "source": [
    "#Task 5: Latent Factor Models\n",
    "\n",
    "In this task, let us try to find the simplest SVD based latent factor model."
   ]
  },
  {
   "cell_type": "code",
   "execution_count": null,
   "metadata": {
    "collapsed": false
   },
   "outputs": [],
   "source": [
    "number_of_users = 943\n",
    "number_of_movies = 1682\n",
    "\n",
    "ratings_matrix = sp.sparse.lil_matrix((number_of_users, number_of_movies))\n",
    "\n"
   ]
  },
  {
   "cell_type": "code",
   "execution_count": null,
   "metadata": {
    "collapsed": false
   },
   "outputs": [],
   "source": [
    "#Task t5a: This task requires a different data structure and hence different from prior tasks.\n",
    "# Here is the high level idea:\n",
    "#  - Create a sparse matrix of type lil_matrix \n",
    "#  - populate it with the data from ratings file\n",
    "#  - if user id i gave movie id j with a rating r, set matrix[i-1,j-1] to r \n",
    "# ie rows=users, col=movies\n",
    "# Hint: If you are reading it from file, note that Python treats the data from file as a string\n",
    "# so you might want to convert them to integer before inserting them.\n",
    "with open(\"ml-100k/u.data\",\"r\") as f:\n",
    "    for line in f:\n",
    "        user_id, movie_id, rating, timestamp = line.split(\"\\t\")\n",
    "        ratings_matrix[ int(user_id)-1, int(movie_id)-1] = int(rating)"
   ]
  },
  {
   "cell_type": "code",
   "execution_count": null,
   "metadata": {
    "collapsed": false
   },
   "outputs": [],
   "source": [
    "print \"Matrix shape is\", ratings_matrix.shape\n",
    "print \"Number of non zero values\", ratings_matrix.nnz\n",
    "print \"Number of non zero values\", ratings_matrix.nonzero()"
   ]
  },
  {
   "cell_type": "code",
   "execution_count": null,
   "metadata": {
    "collapsed": true
   },
   "outputs": [],
   "source": [
    "#Task t5b:\n",
    "# Perform SVD on the ratings matrix\n",
    "# Hint use the svds function imported above and not svd \n",
    "# K is the number of factors to have\n",
    "def perform_svd(ratings_matrix, K=100):\n",
    "    U, S, V = None, None, None\n",
    "    return U, S, V"
   ]
  },
  {
   "cell_type": "code",
   "execution_count": null,
   "metadata": {
    "collapsed": true
   },
   "outputs": [],
   "source": [
    "#Task t5c:\n",
    "# Note that S is is an array and not a matrix\n",
    "# Create a diagonal matrix where the diagonal matrix is populated from S\n",
    "# For eg, if S = 2,4, 8\n",
    "# then output must be\n",
    "#  2 0 0\n",
    "#  0 4 0\n",
    "#  0 0 8\n",
    "\n",
    "def construct_diagonal_matrix(S):\n",
    "    return None"
   ]
  },
  {
   "cell_type": "code",
   "execution_count": null,
   "metadata": {
    "collapsed": false
   },
   "outputs": [],
   "source": [
    "#Task t5d: \n",
    "# We are now going to reconstruct the matrix from the SVD that we have got\n",
    "# new matrix = U S V \n",
    "# But its shape will be different as we only used the top-k factors\n",
    "def reconstruct_low_rank_matrix(U, S, V):\n",
    "    return None"
   ]
  },
  {
   "cell_type": "code",
   "execution_count": null,
   "metadata": {
    "collapsed": true
   },
   "outputs": [],
   "source": [
    "#Task t5e:\n",
    "# Using the reconstructed matrix, predict the rating of user to a movie\n",
    "def predict_rating_svd(user_id, movie_id):\n",
    "    return 0.0"
   ]
  }
 ],
 "metadata": {
  "kernelspec": {
   "display_name": "Python 2",
   "language": "python",
   "name": "python2"
  },
  "language_info": {
   "codemirror_mode": {
    "name": "ipython",
    "version": 2
   },
   "file_extension": ".py",
   "mimetype": "text/x-python",
   "name": "python",
   "nbconvert_exporter": "python",
   "pygments_lexer": "ipython2",
   "version": "2.7.11"
  }
 },
 "nbformat": 4,
 "nbformat_minor": 0
}
